{
 "cells": [
  {
   "cell_type": "code",
   "execution_count": null,
   "metadata": {},
   "outputs": [],
   "source": [
    "from gensim.corpora import WikiCorpus"
   ]
  },
  {
   "cell_type": "code",
   "execution_count": null,
   "metadata": {},
   "outputs": [],
   "source": [
    "wiki_corpus = WikiCorpus('.\\\\wiki_dump\\\\zhwiki-20220501-pages-articles-multistream1.xml-p1p187712.bz2', dictionary={})"
   ]
  },
  {
   "cell_type": "code",
   "execution_count": null,
   "metadata": {},
   "outputs": [],
   "source": [
    "text_num = 0\n",
    "with open('wiki_text.txt', 'w',  encoding='utf-8') as f:\n",
    "    for text in wiki_corpus.get_texts():\n",
    "        f.write(' '.join(text) + '\\n')\n",
    "        text_num += 1\n",
    "        if text_num % 10000 == 0:\n",
    "            print(f'已處理 {text_num}')\n",
    "        if text_num == 100000:\n",
    "            break\n",
    "    print(f'已處理 {text_num}')"
   ]
  },
  {
   "cell_type": "code",
   "execution_count": null,
   "metadata": {},
   "outputs": [],
   "source": [
    "import jieba\n",
    "\n",
    "\n",
    "def jieba_seg(input_file):\n",
    "    result = []\n",
    "    with open(input_file, 'r', encoding='utf-8') as f:\n",
    "        for line in f:\n",
    "            seg_list = jieba.cut(line)\n",
    "            result.append('/'.join(seg_list))\n",
    "    return result\n",
    "\n",
    "wiki_text_seg = jieba_seg('wiki_text.txt')"
   ]
  },
  {
   "cell_type": "code",
   "execution_count": null,
   "metadata": {},
   "outputs": [],
   "source": [
    "def save_seg_file(seg_list, output_file):\n",
    "    with open(output_file, 'w', encoding='utf-8') as f:\n",
    "        for line in seg_list:\n",
    "            f.write(f'{line}')\n",
    "\n",
    "save_seg_file(wiki_text_seg, 'wiki_text_seg.txt')"
   ]
  },
  {
   "cell_type": "code",
   "execution_count": null,
   "metadata": {},
   "outputs": [],
   "source": [
    "import opencc\n",
    "\n",
    "def convert(input_file, output_file):\n",
    "    cc = opencc.OpenCC('s2twp.json')\n",
    "    with open(input_file, 'r', encoding='utf-8') as f:\n",
    "        with open(output_file, 'w', encoding='utf-8') as g:\n",
    "            for line in f:\n",
    "                g.write(cc.convert(line))\n",
    "\n",
    "convert('wiki_text_seg.txt', 'wiki_text_seg_zh_tw.txt')"
   ]
  },
  {
   "cell_type": "code",
   "execution_count": 14,
   "metadata": {},
   "outputs": [],
   "source": [
    "def gen_word(input_file):\n",
    "    result = []\n",
    "    with open(input_file, 'r', encoding='utf-8') as f:\n",
    "        for line in f:\n",
    "            line = line.replace('/', ' ')\n",
    "            line = line.replace('   ', ' ')\n",
    "            result.append(line.split(' '))\n",
    "    return result\n",
    "\n",
    "word = gen_word('wiki_text_seg_zh_tw.txt')"
   ]
  },
  {
   "cell_type": "code",
   "execution_count": 16,
   "metadata": {},
   "outputs": [],
   "source": [
    "import gensim.models as word2vec\n",
    "\n",
    "model = word2vec.Word2Vec(sentences=word, min_count=1, window=3, vector_size=300, sg=1)"
   ]
  },
  {
   "cell_type": "code",
   "execution_count": 17,
   "metadata": {},
   "outputs": [
    {
     "data": {
      "text/plain": [
       "[('你', 0.8647739887237549),\n",
       " ('我們', 0.7016046047210693),\n",
       " ('妳', 0.6897197961807251),\n",
       " ('您', 0.687892496585846),\n",
       " ('昨天', 0.6655668616294861),\n",
       " ('愛過', 0.6579861044883728),\n",
       " ('愛你', 0.6483360528945923),\n",
       " ('你我', 0.644758403301239),\n",
       " ('難道', 0.6423721313476562),\n",
       " ('啊', 0.6410922408103943)]"
      ]
     },
     "execution_count": 17,
     "metadata": {},
     "output_type": "execute_result"
    }
   ],
   "source": [
    "model.wv.most_similar('我')"
   ]
  }
 ],
 "metadata": {
  "kernelspec": {
   "display_name": "venv-3_11_5",
   "language": "python",
   "name": "python3"
  },
  "language_info": {
   "codemirror_mode": {
    "name": "ipython",
    "version": 3
   },
   "file_extension": ".py",
   "mimetype": "text/x-python",
   "name": "python",
   "nbconvert_exporter": "python",
   "pygments_lexer": "ipython3",
   "version": "3.11.5"
  }
 },
 "nbformat": 4,
 "nbformat_minor": 2
}
