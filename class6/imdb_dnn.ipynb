{
  "cells": [
    {
      "cell_type": "code",
      "execution_count": null,
      "metadata": {
        "id": "-wLj9aAJNbvX"
      },
      "outputs": [],
      "source": [
        "\n",
        "####################################\n",
        "##                ##\n",
        "## 載入與了解IMDB網路電影資料集 ##\n",
        "##                ##\n",
        "####################################"
      ]
    },
    {
      "cell_type": "code",
      "execution_count": null,
      "metadata": {
        "id": "iPrZVBliNg4W"
      },
      "outputs": [],
      "source": [
        "\n",
        "##載入tensorflow做使用\n",
        "##tensorflow的tf.keras.dataset.imdb已內建imdb的資料集"
      ]
    },
    {
      "cell_type": "code",
      "execution_count": 1,
      "metadata": {
        "id": "voxgQ6RpNiAX"
      },
      "outputs": [],
      "source": [
        "import tensorflow as tf\n"
      ]
    },
    {
      "cell_type": "code",
      "execution_count": null,
      "metadata": {
        "id": "P29hE_JaNjBg"
      },
      "outputs": [],
      "source": [
        "##load_data函數內的參數num_words設定變數top_words，表示要取出資料集中前多少個最常出現的單字，以上面指令而言，就是取出前1,000個單字。"
      ]
    },
    {
      "cell_type": "code",
      "execution_count": 3,
      "metadata": {
        "id": "rjPb2XJlNlZU"
      },
      "outputs": [],
      "source": [
        "top_words = 1000\n",
        "(train_x, train_y), (test_x, test_y) = tf.keras.datasets.imdb.load_data(num_words=top_words)"
      ]
    },
    {
      "cell_type": "code",
      "execution_count": 4,
      "metadata": {
        "id": "nGaUUqtoiXuC"
      },
      "outputs": [],
      "source": [
        "train_x = tf.keras.preprocessing.sequence.pad_sequences(train_x, maxlen=100)\n",
        "train_y = tf.keras.utils.to_categorical(train_y)\n",
        "test_x = tf.keras.preprocessing.sequence.pad_sequences(test_x, maxlen=100)\n",
        "test_y = tf.keras.utils.to_categorical(test_y)"
      ]
    },
    {
      "cell_type": "code",
      "execution_count": null,
      "metadata": {
        "id": "OH0B3KxUNmnF"
      },
      "outputs": [],
      "source": [
        "##下載後會將資料集的訓練與測試資料分別儲存在(train_x, train_y)、(test_x,test_y)中\n",
        "##可透過shape指令顯示訓練和測試資料集內各維度的資料數量（也稱為形狀），顯示各訓練與測試資料集的資料數量都是25,000筆："
      ]
    },
    {
      "cell_type": "code",
      "execution_count": 5,
      "metadata": {
        "colab": {
          "base_uri": "https://localhost:8080/"
        },
        "id": "T4Nsz_91Nq_e",
        "outputId": "d4998de3-3158-4b55-a47e-7303c83015ab"
      },
      "outputs": [
        {
          "name": "stdout",
          "output_type": "stream",
          "text": [
            "train_x's shape:'(25000, 100)\n",
            "train_y's shape:'(25000, 2)\n",
            "test_x's shape:'(25000, 100)\n",
            "test_y's shape:'(25000, 2)\n"
          ]
        }
      ],
      "source": [
        "print(\"train_x's shape:'{0}\".format(train_x.shape))\n",
        "print(\"train_y's shape:'{0}\".format(train_y.shape))\n",
        "print(\"test_x's shape:'{0}\".format(test_x.shape))\n",
        "print(\"test_y's shape:'{0}\".format(test_y.shape))"
      ]
    },
    {
      "cell_type": "code",
      "execution_count": null,
      "metadata": {
        "id": "PxdReLCdNsEw"
      },
      "outputs": [],
      "source": [
        "##也可檢視訓練資料集內第1筆評論資料（矩陣索引值從0起算），及其對應的標籤資料：\n",
        "##下面data的輸出結果顯示為一個整數值的矩陣，這是因為該評論的單字已置換成「單字 - 索引」（Word-index）\n",
        "##而該索引對應到單字 - 索引字典。標籤的部分，整數1表示正面評價，0表示負面評價。"
      ]
    },
    {
      "cell_type": "code",
      "execution_count": 6,
      "metadata": {
        "colab": {
          "base_uri": "https://localhost:8080/"
        },
        "id": "bDfICrxPNuOu",
        "outputId": "b777224b-fd3f-4517-f124-b88e03120f00"
      },
      "outputs": [
        {
          "name": "stdout",
          "output_type": "stream",
          "text": [
            "data:'[  2  33   6  22  12 215  28  77  52   5  14 407  16  82   2   8   4 107\n",
            " 117   2  15 256   4   2   7   2   5 723  36  71  43 530 476  26 400 317\n",
            "  46   7   4   2   2  13 104  88   4 381  15 297  98  32   2  56  26 141\n",
            "   6 194   2  18   4 226  22  21 134 476  26 480   5 144  30   2  18  51\n",
            "  36  28 224  92  25 104   4 226  65  16  38   2  88  12  16 283   5  16\n",
            "   2 113 103  32  15  16   2  19 178  32]\n",
            "label:'[0. 1.]\n"
          ]
        }
      ],
      "source": [
        "print(\"data:'{0}\".format(train_x[0]))\n",
        "print(\"label:'{0}\".format(train_y[0]))"
      ]
    },
    {
      "cell_type": "code",
      "execution_count": null,
      "metadata": {
        "id": "RutAmBL5N9I_"
      },
      "outputs": [],
      "source": [
        "\n",
        "##若欲顯示回原始文字，可透過下面技巧進行解碼，將整數陣列顯示回單字。首先利用imdb模組中的get_word_index()函數取得單字索引字典：\n",
        "##試看看he這個詞後面接的index以及word是什麼?\n"
      ]
    },
    {
      "cell_type": "code",
      "execution_count": 7,
      "metadata": {
        "id": "GF_HnwR4NwSa"
      },
      "outputs": [
        {
          "name": "stdout",
          "output_type": "stream",
          "text": [
            "Downloading data from https://storage.googleapis.com/tensorflow/tf-keras-datasets/imdb_word_index.json\n",
            "\u001b[1m1641221/1641221\u001b[0m \u001b[32m━━━━━━━━━━━━━━━━━━━━\u001b[0m\u001b[37m\u001b[0m \u001b[1m0s\u001b[0m 0us/step\n"
          ]
        }
      ],
      "source": [
        "words_mapping = tf.keras.datasets.imdb.get_word_index()"
      ]
    },
    {
      "cell_type": "code",
      "execution_count": 8,
      "metadata": {
        "colab": {
          "base_uri": "https://localhost:8080/"
        },
        "id": "Oi2pK6QsN5f8",
        "outputId": "b99f2575-0d9c-4ea3-b94a-d402f40d37bc"
      },
      "outputs": [
        {
          "name": "stdout",
          "output_type": "stream",
          "text": [
            "word [he]'s index is:26\n"
          ]
        }
      ],
      "source": [
        "print(\"word [he]'s index is:{0}\".format(words_mapping[\"he\"]))"
      ]
    },
    {
      "cell_type": "code",
      "execution_count": null,
      "metadata": {
        "id": "OpPtaOb8N7IP"
      },
      "outputs": [],
      "source": [
        "\n",
        "##接著可以用下面技巧製作「索引 - 單字」（Index-words）字典："
      ]
    },
    {
      "cell_type": "code",
      "execution_count": 9,
      "metadata": {
        "id": "M7xEcsghN-ze"
      },
      "outputs": [],
      "source": [
        "indice_mapping = dict([(value,key) for (key,value) in words_mapping.items()])"
      ]
    },
    {
      "cell_type": "code",
      "execution_count": 10,
      "metadata": {
        "colab": {
          "base_uri": "https://localhost:8080/"
        },
        "id": "VEDz7TgdN_-Z",
        "outputId": "480785ad-fbe3-411a-f746-888a7b55eaf2"
      },
      "outputs": [
        {
          "name": "stdout",
          "output_type": "stream",
          "text": [
            "index [400]'s word is:name\n",
            "index [317]'s word is:half\n"
          ]
        }
      ],
      "source": [
        "print(\"index [400]'s word is:{0}\".format(indice_mapping[400]))\n",
        "print(\"index [317]'s word is:{0}\".format(indice_mapping[317]))"
      ]
    },
    {
      "cell_type": "code",
      "execution_count": null,
      "metadata": {
        "id": "81eOoHEDOBPh"
      },
      "outputs": [],
      "source": [
        "\n",
        "##最後就可以將訓練資料集第 1 筆評論資料顯示回單字\n",
        "##解碼後的結果中，可看到內容中含有一些「？」，表示該單字沒對應的索引。"
      ]
    },
    {
      "cell_type": "code",
      "execution_count": 11,
      "metadata": {
        "colab": {
          "base_uri": "https://localhost:8080/",
          "height": 88
        },
        "id": "cQvPdKzROEsn",
        "outputId": "03cc99c2-9b32-4b8a-8389-af45bb0f3471"
      },
      "outputs": [
        {
          "data": {
            "text/plain": [
              "\"? at a film it must have been good and this definitely was also ? to the two little ? that played the ? of ? and paul they were just brilliant children are often left out of the ? ? i think because the stars that play them all ? up are such a big ? for the whole film but these children are amazing and should be ? for what they have done don't you think the whole story was so ? because it was true and was ? life after all that was ? with us all\""
            ]
          },
          "execution_count": 11,
          "metadata": {},
          "output_type": "execute_result"
        }
      ],
      "source": [
        "def decode_review(target):\n",
        "    return (\" \".join([indice_mapping.get(i-3,\"?\") for i in target]))\n",
        "decode_review(train_x[0])\n"
      ]
    },
    {
      "cell_type": "code",
      "execution_count": null,
      "metadata": {
        "id": "WEDQ9ADWOGEO"
      },
      "outputs": [],
      "source": [
        "\n",
        "##################\n",
        "##       ##\n",
        "## 資料預處理 ##\n",
        "##       ##\n",
        "##################"
      ]
    },
    {
      "cell_type": "code",
      "execution_count": null,
      "metadata": {
        "id": "rr7zKYsOOOb4"
      },
      "outputs": [],
      "source": [
        "\n",
        "##為了便於神經網路的訓練，接下來要先對評論的內容執行預處理。\n",
        "##由於我們會將評論以批次的方式傳入輸入層進行神經網路訓練，因此必須先將各筆評論的長度（也就是單字數量）填充或剪裁成相同長度。\n",
        "##首先檢視前10筆評論內容的長度，從輸出結果可以發現各則評論的字數皆不相同：\n"
      ]
    },
    {
      "cell_type": "code",
      "execution_count": 12,
      "metadata": {
        "colab": {
          "base_uri": "https://localhost:8080/"
        },
        "id": "bY_3lKB4OS7e",
        "outputId": "d70bd5c8-23d3-4cd9-976c-4d867c8f84f1"
      },
      "outputs": [
        {
          "name": "stdout",
          "output_type": "stream",
          "text": [
            "100\n",
            "100\n",
            "100\n",
            "100\n",
            "100\n",
            "100\n",
            "100\n",
            "100\n",
            "100\n",
            "100\n"
          ]
        }
      ],
      "source": [
        "for i in range(10):\n",
        "    print(len(train_x[i]))"
      ]
    },
    {
      "cell_type": "code",
      "execution_count": null,
      "metadata": {
        "id": "NW27cOzBOULz"
      },
      "outputs": [],
      "source": [
        "##  會將每筆資料依情況填充或剪裁以符合此設定數量，在這次的範例中，我們將評論內容長度設定為150。\n"
      ]
    },
    {
      "cell_type": "code",
      "execution_count": null,
      "metadata": {
        "id": "6DZ-K8OkOXb_"
      },
      "outputs": [],
      "source": [
        "\n",
        "##執行後可以透過shape查看各維度的資料數量，確認25,000個評論的長度皆為100："
      ]
    },
    {
      "cell_type": "code",
      "execution_count": 13,
      "metadata": {
        "colab": {
          "base_uri": "https://localhost:8080/"
        },
        "id": "oHF-bYywObMA",
        "outputId": "de23f4af-ab07-41a6-a8f7-259a66634fe7"
      },
      "outputs": [
        {
          "name": "stdout",
          "output_type": "stream",
          "text": [
            "train_x's shape:(25000, 100)\n",
            "test_x's shape:(25000, 100)\n"
          ]
        }
      ],
      "source": [
        "print(\"train_x's shape:{0}\".format(train_x.shape))\n",
        "print(\"test_x's shape:{0}\".format(test_x.shape))"
      ]
    },
    {
      "cell_type": "code",
      "execution_count": null,
      "metadata": {
        "id": "ull-hfyROfk1"
      },
      "outputs": [],
      "source": [
        "\n",
        "################\n",
        "##      ##\n",
        "## 建構Model ##\n",
        "##      ##\n",
        "################"
      ]
    },
    {
      "cell_type": "code",
      "execution_count": null,
      "metadata": {
        "id": "DA_ZKM8POlUp"
      },
      "outputs": [],
      "source": [
        "from keras.models import Sequential\n",
        "from keras.layers import Dense"
      ]
    },
    {
      "cell_type": "code",
      "execution_count": null,
      "metadata": {
        "colab": {
          "base_uri": "https://localhost:8080/"
        },
        "id": "BI_a01flO79K",
        "outputId": "005cee74-8393-463e-dd8b-47c379efdabd"
      },
      "outputs": [
        {
          "name": "stdout",
          "output_type": "stream",
          "text": [
            "Model: \"sequential\"\n",
            "_________________________________________________________________\n",
            " Layer (type)                Output Shape              Param #   \n",
            "=================================================================\n",
            " dense (Dense)               (None, 10)                1010      \n",
            "                                                                 \n",
            " dense_1 (Dense)             (None, 32)                352       \n",
            "                                                                 \n",
            " dense_2 (Dense)             (None, 16)                528       \n",
            "                                                                 \n",
            " dense_3 (Dense)             (None, 1)                 17        \n",
            "                                                                 \n",
            "=================================================================\n",
            "Total params: 1907 (7.45 KB)\n",
            "Trainable params: 1907 (7.45 KB)\n",
            "Non-trainable params: 0 (0.00 Byte)\n",
            "_________________________________________________________________\n",
            "None\n"
          ]
        }
      ],
      "source": [
        "##Coding here\n"
      ]
    },
    {
      "cell_type": "code",
      "execution_count": null,
      "metadata": {
        "id": "ORpxLaVjPTtT"
      },
      "outputs": [],
      "source": [
        "model.compile(loss=\"binary_crossentropy\",optimizer=\"adam\",metrics=[\"accuracy\"])"
      ]
    },
    {
      "cell_type": "code",
      "execution_count": null,
      "metadata": {
        "colab": {
          "base_uri": "https://localhost:8080/"
        },
        "id": "ZNQA9dAvPbWZ",
        "outputId": "715ec08c-f91a-4df0-89ff-0c0a17bd1b15"
      },
      "outputs": [
        {
          "name": "stdout",
          "output_type": "stream",
          "text": [
            "Epoch 1/100\n",
            "1250/1250 - 3s - loss: 6.6206 - accuracy: 0.5061 - 3s/epoch - 2ms/step\n",
            "Epoch 2/100\n",
            "1250/1250 - 2s - loss: 2.1462 - accuracy: 0.5021 - 2s/epoch - 1ms/step\n",
            "Epoch 3/100\n",
            "1250/1250 - 2s - loss: 1.3579 - accuracy: 0.5007 - 2s/epoch - 1ms/step\n",
            "Epoch 4/100\n",
            "1250/1250 - 2s - loss: 1.0233 - accuracy: 0.4947 - 2s/epoch - 1ms/step\n",
            "Epoch 5/100\n",
            "1250/1250 - 2s - loss: 0.8146 - accuracy: 0.5026 - 2s/epoch - 2ms/step\n",
            "Epoch 6/100\n",
            "1250/1250 - 2s - loss: 0.7562 - accuracy: 0.5053 - 2s/epoch - 2ms/step\n",
            "Epoch 7/100\n",
            "1250/1250 - 2s - loss: 0.7633 - accuracy: 0.5003 - 2s/epoch - 1ms/step\n",
            "Epoch 8/100\n",
            "1250/1250 - 2s - loss: 0.7600 - accuracy: 0.5048 - 2s/epoch - 1ms/step\n",
            "Epoch 9/100\n",
            "1250/1250 - 2s - loss: 0.7630 - accuracy: 0.4996 - 2s/epoch - 1ms/step\n",
            "Epoch 10/100\n",
            "1250/1250 - 2s - loss: 0.7546 - accuracy: 0.4986 - 2s/epoch - 1ms/step\n",
            "Epoch 11/100\n",
            "1250/1250 - 2s - loss: 0.7519 - accuracy: 0.5082 - 2s/epoch - 1ms/step\n",
            "Epoch 12/100\n",
            "1250/1250 - 3s - loss: 0.7380 - accuracy: 0.5089 - 3s/epoch - 2ms/step\n",
            "Epoch 13/100\n",
            "1250/1250 - 2s - loss: 0.7317 - accuracy: 0.5097 - 2s/epoch - 1ms/step\n",
            "Epoch 14/100\n",
            "1250/1250 - 2s - loss: 0.7253 - accuracy: 0.5080 - 2s/epoch - 1ms/step\n",
            "Epoch 15/100\n",
            "1250/1250 - 2s - loss: 0.7152 - accuracy: 0.5133 - 2s/epoch - 1ms/step\n",
            "Epoch 16/100\n",
            "1250/1250 - 2s - loss: 0.7098 - accuracy: 0.5095 - 2s/epoch - 1ms/step\n",
            "Epoch 17/100\n",
            "1250/1250 - 2s - loss: 0.7038 - accuracy: 0.5182 - 2s/epoch - 1ms/step\n",
            "Epoch 18/100\n",
            "1250/1250 - 2s - loss: 0.7011 - accuracy: 0.5149 - 2s/epoch - 2ms/step\n",
            "Epoch 19/100\n",
            "1250/1250 - 2s - loss: 0.6977 - accuracy: 0.5136 - 2s/epoch - 2ms/step\n",
            "Epoch 20/100\n",
            "1250/1250 - 2s - loss: 0.6957 - accuracy: 0.5126 - 2s/epoch - 1ms/step\n",
            "Epoch 21/100\n",
            "1250/1250 - 2s - loss: 0.6965 - accuracy: 0.5106 - 2s/epoch - 1ms/step\n",
            "Epoch 22/100\n",
            "1250/1250 - 2s - loss: 0.6969 - accuracy: 0.5180 - 2s/epoch - 1ms/step\n",
            "Epoch 23/100\n",
            "1250/1250 - 2s - loss: 0.6954 - accuracy: 0.5160 - 2s/epoch - 1ms/step\n",
            "Epoch 24/100\n",
            "1250/1250 - 2s - loss: 0.6964 - accuracy: 0.5154 - 2s/epoch - 1ms/step\n",
            "Epoch 25/100\n",
            "1250/1250 - 3s - loss: 0.6953 - accuracy: 0.5161 - 3s/epoch - 2ms/step\n",
            "Epoch 26/100\n",
            "1250/1250 - 2s - loss: 0.6959 - accuracy: 0.5167 - 2s/epoch - 1ms/step\n",
            "Epoch 27/100\n",
            "1250/1250 - 2s - loss: 0.6953 - accuracy: 0.5170 - 2s/epoch - 1ms/step\n",
            "Epoch 28/100\n",
            "1250/1250 - 2s - loss: 0.6955 - accuracy: 0.5198 - 2s/epoch - 1ms/step\n",
            "Epoch 29/100\n",
            "1250/1250 - 2s - loss: 0.6946 - accuracy: 0.5246 - 2s/epoch - 1ms/step\n",
            "Epoch 30/100\n",
            "1250/1250 - 2s - loss: 0.6950 - accuracy: 0.5210 - 2s/epoch - 1ms/step\n",
            "Epoch 31/100\n",
            "1250/1250 - 2s - loss: 0.6943 - accuracy: 0.5196 - 2s/epoch - 2ms/step\n",
            "Epoch 32/100\n",
            "1250/1250 - 2s - loss: 0.6948 - accuracy: 0.5134 - 2s/epoch - 2ms/step\n",
            "Epoch 33/100\n",
            "1250/1250 - 2s - loss: 0.6945 - accuracy: 0.5200 - 2s/epoch - 1ms/step\n",
            "Epoch 34/100\n",
            "1250/1250 - 2s - loss: 0.6945 - accuracy: 0.5192 - 2s/epoch - 1ms/step\n",
            "Epoch 35/100\n",
            "1250/1250 - 2s - loss: 0.6939 - accuracy: 0.5213 - 2s/epoch - 1ms/step\n",
            "Epoch 36/100\n",
            "1250/1250 - 2s - loss: 0.6938 - accuracy: 0.5222 - 2s/epoch - 1ms/step\n",
            "Epoch 37/100\n",
            "1250/1250 - 2s - loss: 0.6939 - accuracy: 0.5191 - 2s/epoch - 1ms/step\n",
            "Epoch 38/100\n",
            "1250/1250 - 3s - loss: 0.6934 - accuracy: 0.5216 - 3s/epoch - 2ms/step\n",
            "Epoch 39/100\n",
            "1250/1250 - 2s - loss: 0.6938 - accuracy: 0.5227 - 2s/epoch - 2ms/step\n",
            "Epoch 40/100\n",
            "1250/1250 - 2s - loss: 0.6935 - accuracy: 0.5252 - 2s/epoch - 1ms/step\n",
            "Epoch 41/100\n",
            "1250/1250 - 2s - loss: 0.6928 - accuracy: 0.5235 - 2s/epoch - 1ms/step\n",
            "Epoch 42/100\n",
            "1250/1250 - 2s - loss: 0.6927 - accuracy: 0.5274 - 2s/epoch - 1ms/step\n",
            "Epoch 43/100\n",
            "1250/1250 - 2s - loss: 0.6924 - accuracy: 0.5272 - 2s/epoch - 2ms/step\n",
            "Epoch 44/100\n",
            "1250/1250 - 3s - loss: 0.6925 - accuracy: 0.5240 - 3s/epoch - 2ms/step\n",
            "Epoch 45/100\n",
            "1250/1250 - 2s - loss: 0.6921 - accuracy: 0.5279 - 2s/epoch - 2ms/step\n",
            "Epoch 46/100\n",
            "1250/1250 - 2s - loss: 0.6925 - accuracy: 0.5237 - 2s/epoch - 1ms/step\n",
            "Epoch 47/100\n",
            "1250/1250 - 2s - loss: 0.6917 - accuracy: 0.5284 - 2s/epoch - 1ms/step\n",
            "Epoch 48/100\n",
            "1250/1250 - 2s - loss: 0.6917 - accuracy: 0.5261 - 2s/epoch - 1ms/step\n",
            "Epoch 49/100\n",
            "1250/1250 - 2s - loss: 0.6911 - accuracy: 0.5257 - 2s/epoch - 1ms/step\n",
            "Epoch 50/100\n",
            "1250/1250 - 2s - loss: 0.6915 - accuracy: 0.5300 - 2s/epoch - 2ms/step\n",
            "Epoch 51/100\n",
            "1250/1250 - 2s - loss: 0.6912 - accuracy: 0.5278 - 2s/epoch - 2ms/step\n",
            "Epoch 52/100\n",
            "1250/1250 - 2s - loss: 0.6909 - accuracy: 0.5314 - 2s/epoch - 1ms/step\n",
            "Epoch 53/100\n",
            "1250/1250 - 2s - loss: 0.6907 - accuracy: 0.5294 - 2s/epoch - 1ms/step\n",
            "Epoch 54/100\n",
            "1250/1250 - 2s - loss: 0.6903 - accuracy: 0.5304 - 2s/epoch - 1ms/step\n",
            "Epoch 55/100\n",
            "1250/1250 - 2s - loss: 0.6902 - accuracy: 0.5331 - 2s/epoch - 1ms/step\n",
            "Epoch 56/100\n",
            "1250/1250 - 2s - loss: 0.6907 - accuracy: 0.5323 - 2s/epoch - 1ms/step\n",
            "Epoch 57/100\n",
            "1250/1250 - 2s - loss: 0.6900 - accuracy: 0.5304 - 2s/epoch - 2ms/step\n",
            "Epoch 58/100\n",
            "1250/1250 - 2s - loss: 0.6897 - accuracy: 0.5335 - 2s/epoch - 2ms/step\n",
            "Epoch 59/100\n",
            "1250/1250 - 2s - loss: 0.6903 - accuracy: 0.5310 - 2s/epoch - 1ms/step\n",
            "Epoch 60/100\n",
            "1250/1250 - 2s - loss: 0.6899 - accuracy: 0.5323 - 2s/epoch - 1ms/step\n",
            "Epoch 61/100\n",
            "1250/1250 - 2s - loss: 0.6899 - accuracy: 0.5360 - 2s/epoch - 1ms/step\n",
            "Epoch 62/100\n",
            "1250/1250 - 2s - loss: 0.6900 - accuracy: 0.5340 - 2s/epoch - 1ms/step\n",
            "Epoch 63/100\n",
            "1250/1250 - 2s - loss: 0.6897 - accuracy: 0.5356 - 2s/epoch - 1ms/step\n",
            "Epoch 64/100\n",
            "1250/1250 - 3s - loss: 0.6893 - accuracy: 0.5347 - 3s/epoch - 2ms/step\n",
            "Epoch 65/100\n",
            "1250/1250 - 2s - loss: 0.6895 - accuracy: 0.5337 - 2s/epoch - 1ms/step\n",
            "Epoch 66/100\n",
            "1250/1250 - 2s - loss: 0.6891 - accuracy: 0.5370 - 2s/epoch - 1ms/step\n",
            "Epoch 67/100\n",
            "1250/1250 - 2s - loss: 0.6895 - accuracy: 0.5341 - 2s/epoch - 1ms/step\n",
            "Epoch 68/100\n",
            "1250/1250 - 2s - loss: 0.6895 - accuracy: 0.5362 - 2s/epoch - 1ms/step\n",
            "Epoch 69/100\n",
            "1250/1250 - 2s - loss: 0.6893 - accuracy: 0.5346 - 2s/epoch - 1ms/step\n",
            "Epoch 70/100\n",
            "1250/1250 - 2s - loss: 0.6891 - accuracy: 0.5350 - 2s/epoch - 2ms/step\n",
            "Epoch 71/100\n",
            "1250/1250 - 2s - loss: 0.6891 - accuracy: 0.5348 - 2s/epoch - 2ms/step\n",
            "Epoch 72/100\n",
            "1250/1250 - 2s - loss: 0.6893 - accuracy: 0.5371 - 2s/epoch - 1ms/step\n",
            "Epoch 73/100\n",
            "1250/1250 - 2s - loss: 0.6888 - accuracy: 0.5362 - 2s/epoch - 1ms/step\n",
            "Epoch 74/100\n",
            "1250/1250 - 2s - loss: 0.6892 - accuracy: 0.5372 - 2s/epoch - 1ms/step\n",
            "Epoch 75/100\n",
            "1250/1250 - 2s - loss: 0.6890 - accuracy: 0.5351 - 2s/epoch - 1ms/step\n",
            "Epoch 76/100\n",
            "1250/1250 - 2s - loss: 0.6891 - accuracy: 0.5351 - 2s/epoch - 1ms/step\n",
            "Epoch 77/100\n",
            "1250/1250 - 3s - loss: 0.6893 - accuracy: 0.5333 - 3s/epoch - 2ms/step\n",
            "Epoch 78/100\n",
            "1250/1250 - 2s - loss: 0.6893 - accuracy: 0.5369 - 2s/epoch - 2ms/step\n",
            "Epoch 79/100\n",
            "1250/1250 - 2s - loss: 0.6891 - accuracy: 0.5326 - 2s/epoch - 1ms/step\n",
            "Epoch 80/100\n",
            "1250/1250 - 2s - loss: 0.6896 - accuracy: 0.5342 - 2s/epoch - 1ms/step\n",
            "Epoch 81/100\n",
            "1250/1250 - 2s - loss: 0.6895 - accuracy: 0.5352 - 2s/epoch - 1ms/step\n",
            "Epoch 82/100\n",
            "1250/1250 - 2s - loss: 0.6889 - accuracy: 0.5356 - 2s/epoch - 1ms/step\n",
            "Epoch 83/100\n",
            "1250/1250 - 2s - loss: 0.6895 - accuracy: 0.5376 - 2s/epoch - 2ms/step\n",
            "Epoch 84/100\n",
            "1250/1250 - 2s - loss: 0.6890 - accuracy: 0.5357 - 2s/epoch - 2ms/step\n",
            "Epoch 85/100\n",
            "1250/1250 - 2s - loss: 0.6893 - accuracy: 0.5343 - 2s/epoch - 1ms/step\n",
            "Epoch 86/100\n",
            "1250/1250 - 2s - loss: 0.6894 - accuracy: 0.5327 - 2s/epoch - 1ms/step\n",
            "Epoch 87/100\n",
            "1250/1250 - 2s - loss: 0.6889 - accuracy: 0.5339 - 2s/epoch - 1ms/step\n",
            "Epoch 88/100\n",
            "1250/1250 - 2s - loss: 0.6891 - accuracy: 0.5387 - 2s/epoch - 1ms/step\n",
            "Epoch 89/100\n",
            "1250/1250 - 2s - loss: 0.6891 - accuracy: 0.5357 - 2s/epoch - 1ms/step\n",
            "Epoch 90/100\n",
            "1250/1250 - 3s - loss: 0.6895 - accuracy: 0.5372 - 3s/epoch - 2ms/step\n",
            "Epoch 91/100\n",
            "1250/1250 - 2s - loss: 0.6891 - accuracy: 0.5397 - 2s/epoch - 1ms/step\n",
            "Epoch 92/100\n",
            "1250/1250 - 2s - loss: 0.6890 - accuracy: 0.5378 - 2s/epoch - 1ms/step\n",
            "Epoch 93/100\n",
            "1250/1250 - 2s - loss: 0.6887 - accuracy: 0.5372 - 2s/epoch - 1ms/step\n",
            "Epoch 94/100\n",
            "1250/1250 - 2s - loss: 0.6889 - accuracy: 0.5338 - 2s/epoch - 1ms/step\n",
            "Epoch 95/100\n",
            "1250/1250 - 2s - loss: 0.6894 - accuracy: 0.5346 - 2s/epoch - 1ms/step\n",
            "Epoch 96/100\n",
            "1250/1250 - 2s - loss: 0.6891 - accuracy: 0.5390 - 2s/epoch - 2ms/step\n",
            "Epoch 97/100\n",
            "1250/1250 - 2s - loss: 0.6888 - accuracy: 0.5351 - 2s/epoch - 2ms/step\n",
            "Epoch 98/100\n",
            "1250/1250 - 2s - loss: 0.6896 - accuracy: 0.5341 - 2s/epoch - 1ms/step\n",
            "Epoch 99/100\n",
            "1250/1250 - 2s - loss: 0.6888 - accuracy: 0.5384 - 2s/epoch - 1ms/step\n",
            "Epoch 100/100\n",
            "1250/1250 - 2s - loss: 0.6891 - accuracy: 0.5390 - 2s/epoch - 1ms/step\n"
          ]
        }
      ],
      "source": [
        "history = model.fit(train_x,train_y,epochs=100, batch_size=20,verbose=2)"
      ]
    },
    {
      "cell_type": "code",
      "execution_count": null,
      "metadata": {
        "id": "YqkJU2YHPclw"
      },
      "outputs": [],
      "source": []
    },
    {
      "cell_type": "code",
      "execution_count": null,
      "metadata": {
        "id": "9ZGbsPSjrcxJ"
      },
      "outputs": [],
      "source": []
    }
  ],
  "metadata": {
    "colab": {
      "provenance": []
    },
    "kernelspec": {
      "display_name": "Python 3",
      "name": "python3"
    },
    "language_info": {
      "codemirror_mode": {
        "name": "ipython",
        "version": 3
      },
      "file_extension": ".py",
      "mimetype": "text/x-python",
      "name": "python",
      "nbconvert_exporter": "python",
      "pygments_lexer": "ipython3",
      "version": "3.11.5"
    }
  },
  "nbformat": 4,
  "nbformat_minor": 0
}
