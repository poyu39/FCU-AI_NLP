{
 "cells": [
  {
   "cell_type": "code",
   "execution_count": 1,
   "metadata": {},
   "outputs": [],
   "source": [
    "from tensorflow import keras"
   ]
  },
  {
   "cell_type": "code",
   "execution_count": 2,
   "metadata": {},
   "outputs": [
    {
     "name": "stdout",
     "output_type": "stream",
     "text": [
      "WARNING:tensorflow:From C:\\Users\\bruce_2nbsnuo\\AppData\\Local\\Temp\\ipykernel_6680\\4034193408.py:3: is_gpu_available (from tensorflow.python.framework.test_util) is deprecated and will be removed in a future version.\n",
      "Instructions for updating:\n",
      "Use `tf.config.list_physical_devices('GPU')` instead.\n",
      "True\n"
     ]
    }
   ],
   "source": [
    "# gpu\n",
    "import tensorflow as tf\n",
    "print(tf.test.is_gpu_available())"
   ]
  },
  {
   "cell_type": "code",
   "execution_count": 3,
   "metadata": {},
   "outputs": [],
   "source": [
    "# 匯入IMDB資料集\n",
    "\n",
    "top_words = 10000\n",
    "max_len = 500\n",
    "(train_x, train_y), (test_x, test_y) = keras.datasets.imdb.load_data(num_words=top_words)\n"
   ]
  },
  {
   "cell_type": "code",
   "execution_count": 4,
   "metadata": {},
   "outputs": [
    {
     "name": "stdout",
     "output_type": "stream",
     "text": [
      "train_x shape: (25000, 500)\n",
      "train_y shape: (25000,)\n",
      "test_x shape: (25000, 500)\n",
      "test_y shape: (25000,)\n"
     ]
    }
   ],
   "source": [
    "# 資料預處理\n",
    "train_x = keras.preprocessing.sequence.pad_sequences(train_x, maxlen=max_len)\n",
    "test_x = keras.preprocessing.sequence.pad_sequences(test_x, maxlen=max_len)\n",
    "\n",
    "\n",
    "print(f'train_x shape: {train_x.shape}')\n",
    "print(f'train_y shape: {train_y.shape}')\n",
    "print(f'test_x shape: {test_x.shape}')\n",
    "print(f'test_y shape: {test_y.shape}')"
   ]
  },
  {
   "cell_type": "code",
   "execution_count": 5,
   "metadata": {},
   "outputs": [],
   "source": [
    "from keras.models import Sequential\n",
    "from keras.layers import Dense, LSTM, Embedding, Dropout"
   ]
  },
  {
   "cell_type": "code",
   "execution_count": 55,
   "metadata": {},
   "outputs": [
    {
     "name": "stdout",
     "output_type": "stream",
     "text": [
      "Model: \"sequential_17\"\n",
      "_________________________________________________________________\n",
      " Layer (type)                Output Shape              Param #   \n",
      "=================================================================\n",
      " embedding_17 (Embedding)    (None, None, 64)          640000    \n",
      "                                                                 \n",
      " dropout_17 (Dropout)        (None, None, 64)          0         \n",
      "                                                                 \n",
      " lstm_20 (LSTM)              (None, 64)                33024     \n",
      "                                                                 \n",
      " dense_15 (Dense)            (None, 1)                 65        \n",
      "                                                                 \n",
      "=================================================================\n",
      "Total params: 673,089\n",
      "Trainable params: 673,089\n",
      "Non-trainable params: 0\n",
      "_________________________________________________________________\n"
     ]
    }
   ],
   "source": [
    "model = Sequential()\n",
    "\n",
    "model.add(Embedding(input_dim=top_words, output_dim=64))\n",
    "model.add(Dropout(0.4))\n",
    "model.add(LSTM(64))\n",
    "model.add(Dense(1, activation='sigmoid'))\n",
    "\n",
    "model.summary()\n",
    "\n",
    "model.compile(loss='binary_crossentropy', optimizer='rmsprop', metrics=['accuracy'])"
   ]
  },
  {
   "cell_type": "code",
   "execution_count": 57,
   "metadata": {},
   "outputs": [
    {
     "name": "stdout",
     "output_type": "stream",
     "text": [
      "Epoch 1/5\n",
      "25/25 - 1s - loss: 0.2967 - accuracy: 0.8826 - 1s/epoch - 58ms/step\n",
      "Epoch 2/5\n",
      "25/25 - 2s - loss: 0.2903 - accuracy: 0.8847 - 2s/epoch - 60ms/step\n",
      "Epoch 3/5\n",
      "25/25 - 1s - loss: 0.2541 - accuracy: 0.9013 - 1s/epoch - 58ms/step\n",
      "Epoch 4/5\n",
      "25/25 - 2s - loss: 0.2413 - accuracy: 0.9075 - 2s/epoch - 62ms/step\n",
      "Epoch 5/5\n",
      "25/25 - 1s - loss: 0.2192 - accuracy: 0.9155 - 1s/epoch - 58ms/step\n"
     ]
    }
   ],
   "source": [
    "history = model.fit(train_x, train_y, epochs=5, batch_size=1024, verbose=2)"
   ]
  },
  {
   "cell_type": "code",
   "execution_count": 58,
   "metadata": {},
   "outputs": [
    {
     "name": "stdout",
     "output_type": "stream",
     "text": [
      "782/782 [==============================] - 13s 16ms/step - loss: 0.3203 - accuracy: 0.8710\n",
      "loss: 0.32034\n",
      "accuracy: 0.87096\n"
     ]
    }
   ],
   "source": [
    "loss, accuracy = model.evaluate(test_x, test_y, verbose=1)\n",
    "print(f'loss: {loss:.5f}')\n",
    "print(f'accuracy: {accuracy:.5f}')"
   ]
  }
 ],
 "metadata": {
  "kernelspec": {
   "display_name": "venv-3_11_5",
   "language": "python",
   "name": "python3"
  },
  "language_info": {
   "codemirror_mode": {
    "name": "ipython",
    "version": 3
   },
   "file_extension": ".py",
   "mimetype": "text/x-python",
   "name": "python",
   "nbconvert_exporter": "python",
   "pygments_lexer": "ipython3",
   "version": "3.10.11"
  }
 },
 "nbformat": 4,
 "nbformat_minor": 2
}
