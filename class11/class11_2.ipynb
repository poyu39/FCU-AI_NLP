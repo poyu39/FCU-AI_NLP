{
 "cells": [
  {
   "cell_type": "code",
   "execution_count": 15,
   "metadata": {},
   "outputs": [
    {
     "name": "stdout",
     "output_type": "stream",
     "text": [
      "             Open   High    Low  Close   Adj Close     Volume\n",
      "Date                                                         \n",
      "2014-05-20  494.5  499.0  491.0  492.0  296.165680  4734000.0\n",
      "2014-05-21  493.5  496.0  488.0  488.5  294.058777  5048000.0\n",
      "2014-05-22  495.0  505.0  492.0  505.0  303.991150  7338000.0\n",
      "2014-05-23  503.0  505.0  497.0  498.5  300.078430  4988000.0\n",
      "2014-05-26  500.0  502.0  494.5  494.5  297.670593  4488000.0\n",
      "             Open   High    Low  Close   Adj Close    Volume\n",
      "Date                                                        \n",
      "2023-05-22  702.0  709.0  701.0  705.0  620.303040   4440987\n",
      "2023-05-23  710.0  722.0  708.0  716.0  629.981506   5240558\n",
      "2023-05-24  713.0  713.0  701.0  711.0  625.582153   5640355\n",
      "2023-05-25  708.0  718.0  706.0  708.0  622.942566   4666860\n",
      "2023-05-26  708.0  737.0  708.0  730.0  642.299561  10749900\n"
     ]
    }
   ],
   "source": [
    "import pandas as pd\n",
    "\n",
    "df_train = pd.read_csv('./data/2454.TW_train.csv', index_col='Date')\n",
    "df_test = pd.read_csv('./data/2454.TW_test.csv', index_col='Date')\n",
    "\n",
    "print(df_train.head())\n",
    "print(df_test.head())"
   ]
  },
  {
   "cell_type": "code",
   "execution_count": 16,
   "metadata": {},
   "outputs": [],
   "source": [
    "# 清除缺失值\n",
    "df_train.dropna(inplace=True)\n",
    "df_test.dropna(inplace=True)"
   ]
  },
  {
   "cell_type": "code",
   "execution_count": 17,
   "metadata": {},
   "outputs": [
    {
     "name": "stdout",
     "output_type": "stream",
     "text": [
      "[296.16568  294.058777 303.99115  300.07843  297.670593 306.399048\n",
      " 305.797058 299.777435 293.155853 296.16568 ]\n",
      "[620.30304  629.981506 625.582153 622.942566 642.299561 649.33844\n",
      " 671.335022 667.815613 658.137085 660.776672]\n"
     ]
    }
   ],
   "source": [
    "X_train_set = df_train['Adj Close'].values\n",
    "X_test_set = df_test['Adj Close'].values\n",
    "\n",
    "print(X_train_set[:10])\n",
    "print(X_test_set[:10])"
   ]
  },
  {
   "cell_type": "code",
   "execution_count": 18,
   "metadata": {},
   "outputs": [
    {
     "name": "stdout",
     "output_type": "stream",
     "text": [
      "[[0.20589413]\n",
      " [0.20334428]\n",
      " [0.21536483]\n",
      " [0.2106295 ]\n",
      " [0.20771544]\n",
      " [0.21827896]\n",
      " [0.21755041]\n",
      " [0.21026522]\n",
      " [0.20225152]\n",
      " [0.20589413]]\n",
      "[[0.        ]\n",
      " [0.01587422]\n",
      " [0.00865859]\n",
      " [0.00432924]\n",
      " [0.03607779]\n",
      " [0.04762267]\n",
      " [0.08370057]\n",
      " [0.07792818]\n",
      " [0.06205385]\n",
      " [0.06638319]]\n"
     ]
    }
   ],
   "source": [
    "# 正規化\n",
    "from sklearn.preprocessing import MinMaxScaler\n",
    "\n",
    "sc = MinMaxScaler(feature_range=(0, 1))\n",
    "X_train_set = sc.fit_transform(X_train_set.reshape(-1, 1))\n",
    "X_test_set = sc.fit_transform(X_test_set.reshape(-1, 1))\n",
    "\n",
    "print(X_train_set[:10])\n",
    "print(X_test_set[:10])"
   ]
  },
  {
   "cell_type": "code",
   "execution_count": 19,
   "metadata": {},
   "outputs": [
    {
     "name": "stdout",
     "output_type": "stream",
     "text": [
      "X_train_data shape: (2136, 60, 1)\n",
      "Y_train_data shape: (2136, 1)\n",
      "X_test_data shape: (181, 60, 1)\n",
      "Y_test_data shape: (181, 1)\n"
     ]
    }
   ],
   "source": [
    "import numpy as np\n",
    "\n",
    "# 訓練集\n",
    "\n",
    "train_days = 60\n",
    "\n",
    "X_train_data, Y_train_data = [], []\n",
    "\n",
    "for i in range(len(X_train_set) - train_days - 1):\n",
    "    X_train_data.append(X_train_set[i:i + train_days])\n",
    "    Y_train_data.append(X_train_set[i + train_days + 1])\n",
    "\n",
    "X_train_data = np.array(X_train_data)\n",
    "Y_train_data = np.array(Y_train_data)\n",
    "\n",
    "print(f'X_train_data shape: {X_train_data.shape}')\n",
    "print(f'Y_train_data shape: {Y_train_data.shape}')\n",
    "\n",
    "# 測試集\n",
    "\n",
    "X_test_data, Y_test_data = [], []\n",
    "\n",
    "for i in range(len(X_test_set) - train_days - 1):\n",
    "    X_test_data.append(X_test_set[i:i + train_days])\n",
    "    Y_test_data.append(X_test_set[i + train_days + 1])\n",
    "\n",
    "X_test_data = np.array(X_test_data)\n",
    "Y_test_data = np.array(Y_test_data)\n",
    "\n",
    "print(f'X_test_data shape: {X_test_data.shape}')\n",
    "print(f'Y_test_data shape: {Y_test_data.shape}')"
   ]
  },
  {
   "cell_type": "code",
   "execution_count": 20,
   "metadata": {},
   "outputs": [
    {
     "name": "stdout",
     "output_type": "stream",
     "text": [
      "[[0.20589413]\n",
      " [0.20334428]\n",
      " [0.21536483]\n",
      " [0.2106295 ]\n",
      " [0.20771544]\n",
      " [0.21827896]\n",
      " [0.21755041]\n",
      " [0.21026522]\n",
      " [0.20225152]\n",
      " [0.20589413]\n",
      " [0.20480131]\n",
      " [0.21682193]\n",
      " [0.21172229]\n",
      " [0.21827896]\n",
      " [0.21900744]\n",
      " [0.21609331]\n",
      " [0.21172229]\n",
      " [0.21172229]\n",
      " [0.20917243]\n",
      " [0.21900744]\n",
      " [0.22119302]\n",
      " [0.2248356 ]\n",
      " [0.21827896]\n",
      " [0.21973595]\n",
      " [0.21536483]\n",
      " [0.21536483]\n",
      " [0.22265001]\n",
      " [0.21245069]\n",
      " [0.21536483]\n",
      " [0.21755041]\n",
      " [0.2248356 ]\n",
      " [0.23722039]\n",
      " [0.2417176 ]\n",
      " [0.24546525]\n",
      " [0.23871952]\n",
      " [0.23647086]\n",
      " [0.23347274]\n",
      " [0.2229792 ]\n",
      " [0.22447826]\n",
      " [0.21923163]\n",
      " [0.21998108]\n",
      " [0.21848206]\n",
      " [0.2252279 ]\n",
      " [0.22747653]\n",
      " [0.2349718 ]\n",
      " [0.2349718 ]\n",
      " [0.23197371]\n",
      " [0.22747653]\n",
      " [0.22447826]\n",
      " [0.22073069]\n",
      " [0.22372881]\n",
      " [0.19899417]\n",
      " [0.21960639]\n",
      " [0.21623347]\n",
      " [0.21248582]\n",
      " [0.22447826]\n",
      " [0.21623347]\n",
      " [0.21510917]\n",
      " [0.21848206]\n",
      " [0.21435964]]\n",
      "[0.22222975]\n",
      "----------------------------------------------------------------------\n",
      "[[0.20334428]\n",
      " [0.21536483]\n",
      " [0.2106295 ]\n",
      " [0.20771544]\n",
      " [0.21827896]\n",
      " [0.21755041]\n",
      " [0.21026522]\n",
      " [0.20225152]\n",
      " [0.20589413]\n",
      " [0.20480131]\n",
      " [0.21682193]\n",
      " [0.21172229]\n",
      " [0.21827896]\n",
      " [0.21900744]\n",
      " [0.21609331]\n",
      " [0.21172229]\n",
      " [0.21172229]\n",
      " [0.20917243]\n",
      " [0.21900744]\n",
      " [0.22119302]\n",
      " [0.2248356 ]\n",
      " [0.21827896]\n",
      " [0.21973595]\n",
      " [0.21536483]\n",
      " [0.21536483]\n",
      " [0.22265001]\n",
      " [0.21245069]\n",
      " [0.21536483]\n",
      " [0.21755041]\n",
      " [0.2248356 ]\n",
      " [0.23722039]\n",
      " [0.2417176 ]\n",
      " [0.24546525]\n",
      " [0.23871952]\n",
      " [0.23647086]\n",
      " [0.23347274]\n",
      " [0.2229792 ]\n",
      " [0.22447826]\n",
      " [0.21923163]\n",
      " [0.21998108]\n",
      " [0.21848206]\n",
      " [0.2252279 ]\n",
      " [0.22747653]\n",
      " [0.2349718 ]\n",
      " [0.2349718 ]\n",
      " [0.23197371]\n",
      " [0.22747653]\n",
      " [0.22447826]\n",
      " [0.22073069]\n",
      " [0.22372881]\n",
      " [0.19899417]\n",
      " [0.21960639]\n",
      " [0.21623347]\n",
      " [0.21248582]\n",
      " [0.22447826]\n",
      " [0.21623347]\n",
      " [0.21510917]\n",
      " [0.21848206]\n",
      " [0.21435964]\n",
      " [0.22110545]]\n",
      "[0.22222975]\n"
     ]
    }
   ],
   "source": [
    "print(X_train_data[0])\n",
    "print(Y_train_data[0])\n",
    "print('-' * 70)\n",
    "print(X_train_data[1])\n",
    "print(Y_train_data[1])"
   ]
  },
  {
   "cell_type": "code",
   "execution_count": 21,
   "metadata": {},
   "outputs": [
    {
     "name": "stdout",
     "output_type": "stream",
     "text": [
      "True\n"
     ]
    }
   ],
   "source": [
    "import tensorflow as tf\n",
    "\n",
    "# gpu\n",
    "import tensorflow as tf\n",
    "print(tf.test.is_gpu_available())"
   ]
  },
  {
   "cell_type": "code",
   "execution_count": 36,
   "metadata": {},
   "outputs": [
    {
     "name": "stdout",
     "output_type": "stream",
     "text": [
      "Model: \"sequential_7\"\n",
      "_________________________________________________________________\n",
      " Layer (type)                Output Shape              Param #   \n",
      "=================================================================\n",
      " dense_19 (Dense)            (None, 128)               7808      \n",
      "                                                                 \n",
      " dense_20 (Dense)            (None, 64)                8256      \n",
      "                                                                 \n",
      " dense_21 (Dense)            (None, 32)                2080      \n",
      "                                                                 \n",
      " dense_22 (Dense)            (None, 16)                528       \n",
      "                                                                 \n",
      " dense_23 (Dense)            (None, 1)                 17        \n",
      "                                                                 \n",
      "=================================================================\n",
      "Total params: 18,689\n",
      "Trainable params: 18,689\n",
      "Non-trainable params: 0\n",
      "_________________________________________________________________\n"
     ]
    }
   ],
   "source": [
    "from keras.models import Sequential\n",
    "from keras.layers import Dense, Flatten\n",
    "\n",
    "\n",
    "model = Sequential()\n",
    "model.add(Dense(128, activation='relu', input_shape=(X_train_data.shape[1],)))\n",
    "model.add(Dense(64, activation='relu'))\n",
    "model.add(Dense(32, activation='relu'))\n",
    "model.add(Dense(16, activation='relu'))\n",
    "model.add(Dense(1, activation='relu'))\n",
    "model.summary()\n",
    "model.compile(loss=\"mae\", optimizer=\"adam\")"
   ]
  },
  {
   "cell_type": "code",
   "execution_count": 37,
   "metadata": {},
   "outputs": [
    {
     "name": "stdout",
     "output_type": "stream",
     "text": [
      "Epoch 1/100\n",
      "67/67 - 0s - loss: 0.0406 - 426ms/epoch - 6ms/step\n",
      "Epoch 2/100\n",
      "67/67 - 0s - loss: 0.0206 - 167ms/epoch - 2ms/step\n",
      "Epoch 3/100\n",
      "67/67 - 0s - loss: 0.0185 - 168ms/epoch - 3ms/step\n",
      "Epoch 4/100\n",
      "67/67 - 0s - loss: 0.0197 - 155ms/epoch - 2ms/step\n",
      "Epoch 5/100\n",
      "67/67 - 0s - loss: 0.0170 - 174ms/epoch - 3ms/step\n",
      "Epoch 6/100\n",
      "67/67 - 0s - loss: 0.0166 - 158ms/epoch - 2ms/step\n",
      "Epoch 7/100\n",
      "67/67 - 0s - loss: 0.0172 - 163ms/epoch - 2ms/step\n",
      "Epoch 8/100\n",
      "67/67 - 0s - loss: 0.0168 - 162ms/epoch - 2ms/step\n",
      "Epoch 9/100\n",
      "67/67 - 0s - loss: 0.0162 - 164ms/epoch - 2ms/step\n",
      "Epoch 10/100\n",
      "67/67 - 0s - loss: 0.0169 - 167ms/epoch - 2ms/step\n",
      "Epoch 11/100\n",
      "67/67 - 0s - loss: 0.0187 - 162ms/epoch - 2ms/step\n",
      "Epoch 12/100\n",
      "67/67 - 0s - loss: 0.0167 - 156ms/epoch - 2ms/step\n",
      "Epoch 13/100\n",
      "67/67 - 0s - loss: 0.0150 - 172ms/epoch - 3ms/step\n",
      "Epoch 14/100\n",
      "67/67 - 0s - loss: 0.0148 - 178ms/epoch - 3ms/step\n",
      "Epoch 15/100\n",
      "67/67 - 0s - loss: 0.0152 - 168ms/epoch - 3ms/step\n",
      "Epoch 16/100\n",
      "67/67 - 0s - loss: 0.0173 - 169ms/epoch - 3ms/step\n",
      "Epoch 17/100\n",
      "67/67 - 0s - loss: 0.0159 - 182ms/epoch - 3ms/step\n",
      "Epoch 18/100\n",
      "67/67 - 0s - loss: 0.0181 - 193ms/epoch - 3ms/step\n",
      "Epoch 19/100\n",
      "67/67 - 0s - loss: 0.0148 - 172ms/epoch - 3ms/step\n",
      "Epoch 20/100\n",
      "67/67 - 0s - loss: 0.0139 - 179ms/epoch - 3ms/step\n",
      "Epoch 21/100\n",
      "67/67 - 0s - loss: 0.0141 - 164ms/epoch - 2ms/step\n",
      "Epoch 22/100\n",
      "67/67 - 0s - loss: 0.0152 - 158ms/epoch - 2ms/step\n",
      "Epoch 23/100\n",
      "67/67 - 0s - loss: 0.0139 - 160ms/epoch - 2ms/step\n",
      "Epoch 24/100\n",
      "67/67 - 0s - loss: 0.0139 - 158ms/epoch - 2ms/step\n",
      "Epoch 25/100\n",
      "67/67 - 0s - loss: 0.0142 - 146ms/epoch - 2ms/step\n",
      "Epoch 26/100\n",
      "67/67 - 0s - loss: 0.0146 - 157ms/epoch - 2ms/step\n",
      "Epoch 27/100\n",
      "67/67 - 0s - loss: 0.0141 - 169ms/epoch - 3ms/step\n",
      "Epoch 28/100\n",
      "67/67 - 0s - loss: 0.0143 - 157ms/epoch - 2ms/step\n",
      "Epoch 29/100\n",
      "67/67 - 0s - loss: 0.0146 - 174ms/epoch - 3ms/step\n",
      "Epoch 30/100\n",
      "67/67 - 0s - loss: 0.0151 - 175ms/epoch - 3ms/step\n",
      "Epoch 31/100\n",
      "67/67 - 0s - loss: 0.0152 - 170ms/epoch - 3ms/step\n",
      "Epoch 32/100\n",
      "67/67 - 0s - loss: 0.0147 - 182ms/epoch - 3ms/step\n",
      "Epoch 33/100\n",
      "67/67 - 0s - loss: 0.0147 - 167ms/epoch - 2ms/step\n",
      "Epoch 34/100\n",
      "67/67 - 0s - loss: 0.0146 - 163ms/epoch - 2ms/step\n",
      "Epoch 35/100\n",
      "67/67 - 0s - loss: 0.0138 - 158ms/epoch - 2ms/step\n",
      "Epoch 36/100\n",
      "67/67 - 0s - loss: 0.0128 - 165ms/epoch - 2ms/step\n",
      "Epoch 37/100\n",
      "67/67 - 0s - loss: 0.0142 - 153ms/epoch - 2ms/step\n",
      "Epoch 38/100\n",
      "67/67 - 0s - loss: 0.0134 - 159ms/epoch - 2ms/step\n",
      "Epoch 39/100\n",
      "67/67 - 0s - loss: 0.0126 - 161ms/epoch - 2ms/step\n",
      "Epoch 40/100\n",
      "67/67 - 0s - loss: 0.0141 - 158ms/epoch - 2ms/step\n",
      "Epoch 41/100\n",
      "67/67 - 0s - loss: 0.0132 - 168ms/epoch - 3ms/step\n",
      "Epoch 42/100\n",
      "67/67 - 0s - loss: 0.0131 - 163ms/epoch - 2ms/step\n",
      "Epoch 43/100\n",
      "67/67 - 0s - loss: 0.0131 - 179ms/epoch - 3ms/step\n",
      "Epoch 44/100\n",
      "67/67 - 0s - loss: 0.0142 - 175ms/epoch - 3ms/step\n",
      "Epoch 45/100\n",
      "67/67 - 0s - loss: 0.0135 - 166ms/epoch - 2ms/step\n",
      "Epoch 46/100\n",
      "67/67 - 0s - loss: 0.0130 - 155ms/epoch - 2ms/step\n",
      "Epoch 47/100\n",
      "67/67 - 0s - loss: 0.0135 - 174ms/epoch - 3ms/step\n",
      "Epoch 48/100\n",
      "67/67 - 0s - loss: 0.0137 - 161ms/epoch - 2ms/step\n",
      "Epoch 49/100\n",
      "67/67 - 0s - loss: 0.0166 - 156ms/epoch - 2ms/step\n",
      "Epoch 50/100\n",
      "67/67 - 0s - loss: 0.0138 - 149ms/epoch - 2ms/step\n",
      "Epoch 51/100\n",
      "67/67 - 0s - loss: 0.0132 - 149ms/epoch - 2ms/step\n",
      "Epoch 52/100\n",
      "67/67 - 0s - loss: 0.0130 - 163ms/epoch - 2ms/step\n",
      "Epoch 53/100\n",
      "67/67 - 0s - loss: 0.0129 - 150ms/epoch - 2ms/step\n",
      "Epoch 54/100\n",
      "67/67 - 0s - loss: 0.0137 - 159ms/epoch - 2ms/step\n",
      "Epoch 55/100\n",
      "67/67 - 0s - loss: 0.0133 - 159ms/epoch - 2ms/step\n",
      "Epoch 56/100\n",
      "67/67 - 0s - loss: 0.0124 - 159ms/epoch - 2ms/step\n",
      "Epoch 57/100\n",
      "67/67 - 0s - loss: 0.0131 - 188ms/epoch - 3ms/step\n",
      "Epoch 58/100\n",
      "67/67 - 0s - loss: 0.0124 - 182ms/epoch - 3ms/step\n",
      "Epoch 59/100\n",
      "67/67 - 0s - loss: 0.0150 - 190ms/epoch - 3ms/step\n",
      "Epoch 60/100\n",
      "67/67 - 0s - loss: 0.0140 - 192ms/epoch - 3ms/step\n",
      "Epoch 61/100\n",
      "67/67 - 0s - loss: 0.0136 - 174ms/epoch - 3ms/step\n",
      "Epoch 62/100\n",
      "67/67 - 0s - loss: 0.0129 - 165ms/epoch - 2ms/step\n",
      "Epoch 63/100\n",
      "67/67 - 0s - loss: 0.0146 - 171ms/epoch - 3ms/step\n",
      "Epoch 64/100\n",
      "67/67 - 0s - loss: 0.0128 - 163ms/epoch - 2ms/step\n",
      "Epoch 65/100\n",
      "67/67 - 0s - loss: 0.0123 - 167ms/epoch - 2ms/step\n",
      "Epoch 66/100\n",
      "67/67 - 0s - loss: 0.0123 - 161ms/epoch - 2ms/step\n",
      "Epoch 67/100\n",
      "67/67 - 0s - loss: 0.0126 - 154ms/epoch - 2ms/step\n",
      "Epoch 68/100\n",
      "67/67 - 0s - loss: 0.0126 - 149ms/epoch - 2ms/step\n",
      "Epoch 69/100\n",
      "67/67 - 0s - loss: 0.0133 - 171ms/epoch - 3ms/step\n",
      "Epoch 70/100\n",
      "67/67 - 0s - loss: 0.0125 - 175ms/epoch - 3ms/step\n",
      "Epoch 71/100\n",
      "67/67 - 0s - loss: 0.0117 - 156ms/epoch - 2ms/step\n",
      "Epoch 72/100\n",
      "67/67 - 0s - loss: 0.0123 - 178ms/epoch - 3ms/step\n",
      "Epoch 73/100\n",
      "67/67 - 0s - loss: 0.0135 - 171ms/epoch - 3ms/step\n",
      "Epoch 74/100\n",
      "67/67 - 0s - loss: 0.0125 - 152ms/epoch - 2ms/step\n",
      "Epoch 75/100\n",
      "67/67 - 0s - loss: 0.0122 - 189ms/epoch - 3ms/step\n",
      "Epoch 76/100\n",
      "67/67 - 0s - loss: 0.0124 - 162ms/epoch - 2ms/step\n",
      "Epoch 77/100\n",
      "67/67 - 0s - loss: 0.0120 - 157ms/epoch - 2ms/step\n",
      "Epoch 78/100\n",
      "67/67 - 0s - loss: 0.0124 - 145ms/epoch - 2ms/step\n",
      "Epoch 79/100\n",
      "67/67 - 0s - loss: 0.0121 - 147ms/epoch - 2ms/step\n",
      "Epoch 80/100\n",
      "67/67 - 0s - loss: 0.0141 - 138ms/epoch - 2ms/step\n",
      "Epoch 81/100\n",
      "67/67 - 0s - loss: 0.0125 - 146ms/epoch - 2ms/step\n",
      "Epoch 82/100\n",
      "67/67 - 0s - loss: 0.0133 - 159ms/epoch - 2ms/step\n",
      "Epoch 83/100\n",
      "67/67 - 0s - loss: 0.0132 - 174ms/epoch - 3ms/step\n",
      "Epoch 84/100\n",
      "67/67 - 0s - loss: 0.0132 - 156ms/epoch - 2ms/step\n",
      "Epoch 85/100\n",
      "67/67 - 0s - loss: 0.0125 - 139ms/epoch - 2ms/step\n",
      "Epoch 86/100\n",
      "67/67 - 0s - loss: 0.0131 - 150ms/epoch - 2ms/step\n",
      "Epoch 87/100\n",
      "67/67 - 0s - loss: 0.0122 - 152ms/epoch - 2ms/step\n",
      "Epoch 88/100\n",
      "67/67 - 0s - loss: 0.0129 - 143ms/epoch - 2ms/step\n",
      "Epoch 89/100\n",
      "67/67 - 0s - loss: 0.0128 - 151ms/epoch - 2ms/step\n",
      "Epoch 90/100\n",
      "67/67 - 0s - loss: 0.0140 - 140ms/epoch - 2ms/step\n",
      "Epoch 91/100\n",
      "67/67 - 0s - loss: 0.0147 - 147ms/epoch - 2ms/step\n",
      "Epoch 92/100\n",
      "67/67 - 0s - loss: 0.0123 - 171ms/epoch - 3ms/step\n",
      "Epoch 93/100\n",
      "67/67 - 0s - loss: 0.0119 - 150ms/epoch - 2ms/step\n",
      "Epoch 94/100\n",
      "67/67 - 0s - loss: 0.0124 - 147ms/epoch - 2ms/step\n",
      "Epoch 95/100\n",
      "67/67 - 0s - loss: 0.0144 - 154ms/epoch - 2ms/step\n",
      "Epoch 96/100\n",
      "67/67 - 0s - loss: 0.0127 - 151ms/epoch - 2ms/step\n",
      "Epoch 97/100\n",
      "67/67 - 0s - loss: 0.0135 - 168ms/epoch - 3ms/step\n",
      "Epoch 98/100\n",
      "67/67 - 0s - loss: 0.0122 - 156ms/epoch - 2ms/step\n",
      "Epoch 99/100\n",
      "67/67 - 0s - loss: 0.0129 - 169ms/epoch - 3ms/step\n",
      "Epoch 100/100\n",
      "67/67 - 0s - loss: 0.0119 - 160ms/epoch - 2ms/step\n"
     ]
    }
   ],
   "source": [
    "history = model.fit(X_train_data, Y_train_data, epochs=100, batch_size=32, verbose=2)"
   ]
  },
  {
   "cell_type": "code",
   "execution_count": 38,
   "metadata": {},
   "outputs": [
    {
     "name": "stdout",
     "output_type": "stream",
     "text": [
      "6/6 [==============================] - 0s 2ms/step\n"
     ]
    }
   ],
   "source": [
    "X_test_data_pred = model.predict(X_test_data)\n",
    "Y_test_data_pred_price = Y_test_data"
   ]
  },
  {
   "cell_type": "code",
   "execution_count": 39,
   "metadata": {},
   "outputs": [
    {
     "data": {
      "image/png": "[encoded data removed]",
      "text/plain": [
       "<Figure size 640x480 with 1 Axes>"
      ]
     },
     "metadata": {},
     "output_type": "display_data"
    }
   ],
   "source": [
    "import matplotlib.pyplot as plt\n",
    "\n",
    "plt.plot(X_test_data_pred, color=\"red\", label=\"pred\")\n",
    "plt.plot(Y_test_data_pred_price, color=\"blue\", label=\"real\")\n",
    "plt.legend()\n",
    "plt.show()"
   ]
  },
  {
   "cell_type": "code",
   "execution_count": 40,
   "metadata": {},
   "outputs": [
    {
     "name": "stdout",
     "output_type": "stream",
     "text": [
      "WARNING:tensorflow:Layer lstm_4 will not use cuDNN kernels since it doesn't meet the criteria. It will use a generic GPU kernel as fallback when running on GPU.\n",
      "Model: \"sequential_8\"\n",
      "_________________________________________________________________\n",
      " Layer (type)                Output Shape              Param #   \n",
      "=================================================================\n",
      " lstm_4 (LSTM)               (None, 128)               66560     \n",
      "                                                                 \n",
      " dense_24 (Dense)            (None, 1)                 129       \n",
      "                                                                 \n",
      "=================================================================\n",
      "Total params: 66,689\n",
      "Trainable params: 66,689\n",
      "Non-trainable params: 0\n",
      "_________________________________________________________________\n"
     ]
    }
   ],
   "source": [
    "# LSTM\n",
    "from keras.models import Sequential\n",
    "from keras.layers import LSTM\n",
    "\n",
    "LSTM_model = Sequential()\n",
    "LSTM_model.add(LSTM(128, activation='relu', input_shape=(X_train_data.shape[1], X_train_data.shape[2])))\n",
    "LSTM_model.add(Dense(1, activation='relu'))\n",
    "LSTM_model.summary()\n",
    "LSTM_model.compile(loss=\"mae\", optimizer=\"adam\")"
   ]
  },
  {
   "cell_type": "code",
   "execution_count": 41,
   "metadata": {},
   "outputs": [
    {
     "name": "stdout",
     "output_type": "stream",
     "text": [
      "Epoch 1/10\n",
      "34/34 - 4s - loss: 0.0920 - 4s/epoch - 126ms/step\n",
      "Epoch 2/10\n",
      "34/34 - 3s - loss: 0.0209 - 3s/epoch - 101ms/step\n",
      "Epoch 3/10\n",
      "34/34 - 4s - loss: 0.0177 - 4s/epoch - 104ms/step\n",
      "Epoch 4/10\n",
      "34/34 - 3s - loss: 0.0175 - 3s/epoch - 96ms/step\n",
      "Epoch 5/10\n",
      "34/34 - 3s - loss: 0.0161 - 3s/epoch - 102ms/step\n",
      "Epoch 6/10\n",
      "34/34 - 3s - loss: 0.0162 - 3s/epoch - 96ms/step\n",
      "Epoch 7/10\n",
      "34/34 - 3s - loss: 0.0166 - 3s/epoch - 96ms/step\n",
      "Epoch 8/10\n",
      "34/34 - 4s - loss: 0.0156 - 4s/epoch - 111ms/step\n",
      "Epoch 9/10\n",
      "34/34 - 4s - loss: 0.0155 - 4s/epoch - 108ms/step\n",
      "Epoch 10/10\n",
      "34/34 - 4s - loss: 0.0152 - 4s/epoch - 107ms/step\n"
     ]
    }
   ],
   "source": [
    "LSTM_history = LSTM_model.fit(X_train_data, Y_train_data, epochs=10, batch_size=64, verbose=2)"
   ]
  },
  {
   "cell_type": "code",
   "execution_count": 42,
   "metadata": {},
   "outputs": [
    {
     "name": "stdout",
     "output_type": "stream",
     "text": [
      "6/6 [==============================] - 0s 20ms/step\n"
     ]
    }
   ],
   "source": [
    "X_test_data_pred = LSTM_model.predict(X_test_data)\n",
    "Y_test_data_pred_price = Y_test_data"
   ]
  },
  {
   "cell_type": "code",
   "execution_count": 43,
   "metadata": {},
   "outputs": [
    {
     "data": {
      "image/png": "[encoded data removed]",
      "text/plain": [
       "<Figure size 640x480 with 1 Axes>"
      ]
     },
     "metadata": {},
     "output_type": "display_data"
    }
   ],
   "source": [
    "plt.plot(X_test_data_pred, color=\"red\", label=\"pred\")\n",
    "plt.plot(Y_test_data_pred_price, color=\"blue\", label=\"real\")\n",
    "plt.legend()\n",
    "plt.show()"
   ]
  },
  {
   "cell_type": "code",
   "execution_count": 62,
   "metadata": {},
   "outputs": [
    {
     "name": "stdout",
     "output_type": "stream",
     "text": [
      "Model: \"sequential_7\"\n",
      "_________________________________________________________________\n",
      " Layer (type)                Output Shape              Param #   \n",
      "=================================================================\n",
      " dense_19 (Dense)            (None, 128)               7808      \n",
      "                                                                 \n",
      " dense_20 (Dense)            (None, 64)                8256      \n",
      "                                                                 \n",
      " dense_21 (Dense)            (None, 32)                2080      \n",
      "                                                                 \n",
      " dense_22 (Dense)            (None, 16)                528       \n",
      "                                                                 \n",
      " dense_23 (Dense)            (None, 1)                 17        \n",
      "                                                                 \n",
      "=================================================================\n",
      "Total params: 18,689\n",
      "Trainable params: 18,689\n",
      "Non-trainable params: 0\n",
      "_________________________________________________________________\n"
     ]
    }
   ],
   "source": [
    "from keras.models import Sequential\n",
    "from keras.layers import SimpleRNN, Dense\n",
    "\n",
    "rnn_model = Sequential()\n",
    "rnn_model.add(SimpleRNN(32))\n",
    "rnn_model.add(Dense(16))\n",
    "rnn_model.add(Dense(1))\n",
    "rnn_model.compile(optimizer='adam', loss='mae')\n",
    "model.summary()"
   ]
  },
  {
   "cell_type": "code",
   "execution_count": 63,
   "metadata": {},
   "outputs": [
    {
     "name": "stdout",
     "output_type": "stream",
     "text": [
      "Epoch 1/10\n",
      "34/34 - 2s - loss: 0.0361 - 2s/epoch - 57ms/step\n",
      "Epoch 2/10\n",
      "34/34 - 1s - loss: 0.0166 - 1s/epoch - 43ms/step\n",
      "Epoch 3/10\n",
      "34/34 - 1s - loss: 0.0149 - 1s/epoch - 40ms/step\n",
      "Epoch 4/10\n",
      "34/34 - 1s - loss: 0.0145 - 1s/epoch - 40ms/step\n",
      "Epoch 5/10\n",
      "34/34 - 1s - loss: 0.0133 - 1s/epoch - 42ms/step\n",
      "Epoch 6/10\n",
      "34/34 - 1s - loss: 0.0126 - 1s/epoch - 43ms/step\n",
      "Epoch 7/10\n",
      "34/34 - 1s - loss: 0.0126 - 1s/epoch - 42ms/step\n",
      "Epoch 8/10\n",
      "34/34 - 1s - loss: 0.0127 - 1s/epoch - 42ms/step\n",
      "Epoch 9/10\n",
      "34/34 - 1s - loss: 0.0122 - 1s/epoch - 41ms/step\n",
      "Epoch 10/10\n",
      "34/34 - 1s - loss: 0.0120 - 1s/epoch - 42ms/step\n"
     ]
    },
    {
     "data": {
      "text/plain": [
       "<keras.callbacks.History at 0x15142356b30>"
      ]
     },
     "execution_count": 63,
     "metadata": {},
     "output_type": "execute_result"
    }
   ],
   "source": [
    "rnn_model.fit(X_train_data, Y_train_data, epochs=10, batch_size=64, verbose=2)"
   ]
  },
  {
   "cell_type": "code",
   "execution_count": 64,
   "metadata": {},
   "outputs": [
    {
     "name": "stdout",
     "output_type": "stream",
     "text": [
      "6/6 [==============================] - 0s 8ms/step\n"
     ]
    }
   ],
   "source": [
    "X_test_data_pred = rnn_model.predict(X_test_data)\n",
    "Y_test_data_pred_price = Y_test_data"
   ]
  },
  {
   "cell_type": "code",
   "execution_count": 65,
   "metadata": {},
   "outputs": [
    {
     "data": {
      "image/png": "[encoded data removed]",
      "text/plain": [
       "<Figure size 640x480 with 1 Axes>"
      ]
     },
     "metadata": {},
     "output_type": "display_data"
    }
   ],
   "source": [
    "plt.plot(X_test_data_pred, color=\"red\", label=\"pred\")\n",
    "plt.plot(Y_test_data_pred_price, color=\"blue\", label=\"real\")\n",
    "plt.legend()\n",
    "plt.show()"
   ]
  }
 ],
 "metadata": {
  "kernelspec": {
   "display_name": "venv_3_10_11",
   "language": "python",
   "name": "python3"
  },
  "language_info": {
   "codemirror_mode": {
    "name": "ipython",
    "version": 3
   },
   "file_extension": ".py",
   "mimetype": "text/x-python",
   "name": "python",
   "nbconvert_exporter": "python",
   "pygments_lexer": "ipython3",
   "version": "3.10.11"
  }
 },
 "nbformat": 4,
 "nbformat_minor": 2
}
