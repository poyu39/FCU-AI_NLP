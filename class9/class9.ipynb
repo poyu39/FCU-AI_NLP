{
 "cells": [
  {
   "cell_type": "code",
   "execution_count": 29,
   "metadata": {},
   "outputs": [
    {
     "name": "stdout",
     "output_type": "stream",
     "text": [
      "(25000,) (25000,)\n",
      "(25000,) (25000,)\n"
     ]
    }
   ],
   "source": [
    "import tensorflow as tf\n",
    "\n",
    "top_words = 1000\n",
    "\n",
    "(train_x, train_y), (test_x, test_y) = tf.keras.datasets.imdb.load_data(num_words = top_words)\n",
    "\n",
    "print(train_x.shape, train_y.shape)\n",
    "print(test_x.shape, test_y.shape)\n"
   ]
  },
  {
   "cell_type": "code",
   "execution_count": 30,
   "metadata": {},
   "outputs": [
    {
     "name": "stdout",
     "output_type": "stream",
     "text": [
      "(25000, 100) (25000,)\n",
      "(25000, 100) (25000,)\n"
     ]
    }
   ],
   "source": [
    "from keras_preprocessing.sequence import pad_sequences\n",
    "\n",
    "max_len_word = 100\n",
    "train_x = pad_sequences(sequences = train_x, maxlen = max_len_word)\n",
    "test_x = pad_sequences(sequences = test_x, maxlen = max_len_word)\n",
    "\n",
    "print(train_x.shape, train_y.shape)\n",
    "print(test_x.shape, test_y.shape)"
   ]
  },
  {
   "cell_type": "code",
   "execution_count": 3,
   "metadata": {},
   "outputs": [
    {
     "name": "stdout",
     "output_type": "stream",
     "text": [
      "Model: \"model\"\n",
      "_________________________________________________________________\n",
      " Layer (type)                Output Shape              Param #   \n",
      "=================================================================\n",
      " input_1 (InputLayer)        [(None, 100)]             0         \n",
      "                                                                 \n",
      " dense (Dense)               (None, 64)                6464      \n",
      "                                                                 \n",
      " dense_1 (Dense)             (None, 32)                2080      \n",
      "                                                                 \n",
      " dense_2 (Dense)             (None, 16)                528       \n",
      "                                                                 \n",
      " dense_3 (Dense)             (None, 32)                544       \n",
      "                                                                 \n",
      " dense_4 (Dense)             (None, 64)                2112      \n",
      "                                                                 \n",
      " dense_5 (Dense)             (None, 100000)            6500000   \n",
      "                                                                 \n",
      " reshape (Reshape)           (None, 100, 1000)         0         \n",
      "                                                                 \n",
      "=================================================================\n",
      "Total params: 6,511,728\n",
      "Trainable params: 6,511,728\n",
      "Non-trainable params: 0\n",
      "_________________________________________________________________\n"
     ]
    }
   ],
   "source": [
    "from keras.layers import Input, Dense, Reshape\n",
    "from keras.models import Model\n",
    "\n",
    "endcoding_dim = 16\n",
    "\n",
    "# encoder\n",
    "encoder_input = Input(shape = (max_len_word, ))\n",
    "encoder_layer_1 = Dense(units = endcoding_dim * 4)(encoder_input)\n",
    "encoder_layer_2 = Dense(units = endcoding_dim * 2)(encoder_layer_1)\n",
    "encoder_output = Dense(units = endcoding_dim, activation = 'relu')(encoder_layer_2)\n",
    "\n",
    "vocab_size = 1000\n",
    "# decoder\n",
    "decoder_layer_1 = Dense(units = endcoding_dim * 2)(encoder_output)\n",
    "decoder_layer_2 = Dense(units = endcoding_dim * 4)(decoder_layer_1)\n",
    "decoder_layer_3 = Dense(units = max_len_word * vocab_size, activation = 'softmax')(decoder_layer_2)\n",
    "decoder_output = Reshape(target_shape = (max_len_word, vocab_size))(decoder_layer_3)\n",
    "\n",
    "autoencoder_dnn = Model(encoder_input, decoder_output)\n",
    "autoencoder_dnn.compile(optimizer='adam', loss='sparse_categorical_crossentropy')\n",
    "autoencoder_dnn.summary()"
   ]
  },
  {
   "cell_type": "code",
   "execution_count": 4,
   "metadata": {},
   "outputs": [
    {
     "name": "stdout",
     "output_type": "stream",
     "text": [
      "Epoch 1/10\n",
      "625/625 [==============================] - 6s 6ms/step - loss: 5.1833 - val_loss: 4.8535\n",
      "Epoch 2/10\n",
      "625/625 [==============================] - 3s 5ms/step - loss: 4.7992 - val_loss: 4.7892\n",
      "Epoch 3/10\n",
      "625/625 [==============================] - 3s 5ms/step - loss: 4.7378 - val_loss: 4.7379\n",
      "Epoch 4/10\n",
      "625/625 [==============================] - 3s 5ms/step - loss: 4.7164 - val_loss: 4.7330\n",
      "Epoch 5/10\n",
      "625/625 [==============================] - 3s 5ms/step - loss: 4.7109 - val_loss: 4.7323\n",
      "Epoch 6/10\n",
      "625/625 [==============================] - 3s 5ms/step - loss: 4.7053 - val_loss: 4.7543\n",
      "Epoch 7/10\n",
      "625/625 [==============================] - 3s 5ms/step - loss: 4.6997 - val_loss: 4.7312\n",
      "Epoch 8/10\n",
      "625/625 [==============================] - 3s 5ms/step - loss: 4.6964 - val_loss: 4.7176\n",
      "Epoch 9/10\n",
      "625/625 [==============================] - 3s 5ms/step - loss: 4.6904 - val_loss: 4.7215\n",
      "Epoch 10/10\n",
      "625/625 [==============================] - 3s 5ms/step - loss: 4.6895 - val_loss: 4.7128\n"
     ]
    },
    {
     "data": {
      "text/plain": [
       "<keras.callbacks.History at 0x21d99b8b970>"
      ]
     },
     "execution_count": 4,
     "metadata": {},
     "output_type": "execute_result"
    }
   ],
   "source": [
    "autoencoder_dnn.fit(train_x, train_x, epochs=10, batch_size=32, validation_split=0.2)"
   ]
  },
  {
   "cell_type": "code",
   "execution_count": 5,
   "metadata": {},
   "outputs": [
    {
     "name": "stdout",
     "output_type": "stream",
     "text": [
      "Model: \"model_1\"\n",
      "_________________________________________________________________\n",
      " Layer (type)                Output Shape              Param #   \n",
      "=================================================================\n",
      " input_1 (InputLayer)        [(None, 100)]             0         \n",
      "                                                                 \n",
      " dense (Dense)               (None, 64)                6464      \n",
      "                                                                 \n",
      " dense_1 (Dense)             (None, 32)                2080      \n",
      "                                                                 \n",
      " dense_2 (Dense)             (None, 16)                528       \n",
      "                                                                 \n",
      "=================================================================\n",
      "Total params: 9,072\n",
      "Trainable params: 9,072\n",
      "Non-trainable params: 0\n",
      "_________________________________________________________________\n"
     ]
    }
   ],
   "source": [
    "# encoder\n",
    "encoder = Model(encoder_input, encoder_output)\n",
    "encoder.summary()"
   ]
  },
  {
   "cell_type": "code",
   "execution_count": 6,
   "metadata": {},
   "outputs": [
    {
     "name": "stdout",
     "output_type": "stream",
     "text": [
      "Model: \"model_2\"\n",
      "_________________________________________________________________\n",
      " Layer (type)                Output Shape              Param #   \n",
      "=================================================================\n",
      " input_2 (InputLayer)        [(None, 16)]              0         \n",
      "                                                                 \n",
      " dense_6 (Dense)             (None, 32)                544       \n",
      "                                                                 \n",
      " dense_7 (Dense)             (None, 2)                 66        \n",
      "                                                                 \n",
      "=================================================================\n",
      "Total params: 610\n",
      "Trainable params: 610\n",
      "Non-trainable params: 0\n",
      "_________________________________________________________________\n"
     ]
    }
   ],
   "source": [
    "# 分類\n",
    "class_model_input = Input(shape = (endcoding_dim, ))\n",
    "class_model_layer_1 = Dense(units = endcoding_dim * 2)(class_model_input)\n",
    "class_model_output = Dense(units = 2, activation = 'softmax')(class_model_layer_1)\n",
    "\n",
    "class_model = Model(class_model_input, class_model_output)\n",
    "class_model.compile(optimizer='adam', loss='sparse_categorical_crossentropy', metrics=['accuracy'])\n",
    "class_model.summary()"
   ]
  },
  {
   "cell_type": "code",
   "execution_count": 7,
   "metadata": {},
   "outputs": [
    {
     "name": "stdout",
     "output_type": "stream",
     "text": [
      "782/782 [==============================] - 1s 852us/step\n",
      "Epoch 1/10\n",
      "625/625 [==============================] - 2s 3ms/step - loss: 2.5566 - accuracy: 0.4929 - val_loss: 0.6981 - val_accuracy: 0.5234\n",
      "Epoch 2/10\n",
      "625/625 [==============================] - 1s 2ms/step - loss: 0.7270 - accuracy: 0.5027 - val_loss: 0.7051 - val_accuracy: 0.4940\n",
      "Epoch 3/10\n",
      "625/625 [==============================] - 1s 2ms/step - loss: 0.7322 - accuracy: 0.5106 - val_loss: 0.6956 - val_accuracy: 0.4948\n",
      "Epoch 4/10\n",
      "625/625 [==============================] - 1s 2ms/step - loss: 0.7321 - accuracy: 0.5070 - val_loss: 0.8656 - val_accuracy: 0.5176\n",
      "Epoch 5/10\n",
      "625/625 [==============================] - 1s 2ms/step - loss: 0.7362 - accuracy: 0.5083 - val_loss: 0.7094 - val_accuracy: 0.5326\n",
      "Epoch 6/10\n",
      "625/625 [==============================] - 1s 2ms/step - loss: 0.7278 - accuracy: 0.5042 - val_loss: 0.7332 - val_accuracy: 0.4940\n",
      "Epoch 7/10\n",
      "625/625 [==============================] - 1s 2ms/step - loss: 0.7296 - accuracy: 0.5077 - val_loss: 0.6902 - val_accuracy: 0.5284\n",
      "Epoch 8/10\n",
      "625/625 [==============================] - 1s 2ms/step - loss: 0.7320 - accuracy: 0.5118 - val_loss: 0.6953 - val_accuracy: 0.4982\n",
      "Epoch 9/10\n",
      "625/625 [==============================] - 1s 2ms/step - loss: 0.7254 - accuracy: 0.5081 - val_loss: 0.7148 - val_accuracy: 0.5252\n",
      "Epoch 10/10\n",
      "625/625 [==============================] - 1s 2ms/step - loss: 0.7191 - accuracy: 0.5129 - val_loss: 0.6983 - val_accuracy: 0.5298\n"
     ]
    },
    {
     "data": {
      "text/plain": [
       "<keras.callbacks.History at 0x21da12dbbe0>"
      ]
     },
     "execution_count": 7,
     "metadata": {},
     "output_type": "execute_result"
    }
   ],
   "source": [
    "class_model.fit(encoder.predict(train_x), train_y, epochs=10, batch_size=32, validation_split=0.2)"
   ]
  },
  {
   "cell_type": "code",
   "execution_count": 26,
   "metadata": {},
   "outputs": [
    {
     "name": "stdout",
     "output_type": "stream",
     "text": [
      "Model: \"model_7\"\n",
      "_________________________________________________________________\n",
      " Layer (type)                Output Shape              Param #   \n",
      "=================================================================\n",
      " input_7 (InputLayer)        [(None, 100)]             0         \n",
      "                                                                 \n",
      " embedding_4 (Embedding)     (None, 100, 64)           64000     \n",
      "                                                                 \n",
      " lstm_8 (LSTM)               (None, 64)                33024     \n",
      "                                                                 \n",
      " repeat_vector_4 (RepeatVect  (None, 100, 64)          0         \n",
      " or)                                                             \n",
      "                                                                 \n",
      " lstm_9 (LSTM)               (None, 100, 64)           33024     \n",
      "                                                                 \n",
      " dense_12 (Dense)            (None, 100, 1000)         65000     \n",
      "                                                                 \n",
      "=================================================================\n",
      "Total params: 195,048\n",
      "Trainable params: 195,048\n",
      "Non-trainable params: 0\n",
      "_________________________________________________________________\n"
     ]
    }
   ],
   "source": [
    "# LSTM\n",
    "from keras.layers import LSTM, RepeatVector, Embedding\n",
    "\n",
    "timesteps = 100\n",
    "lastent_dim = 64\n",
    "\n",
    "# encoder\n",
    "encoder_input = Input(shape = (timesteps, ))\n",
    "encoder_layer_1 = Embedding(top_words, lastent_dim, input_length = endcoding_dim)(encoder_input)\n",
    "encoder_output = LSTM(units = lastent_dim)(encoder_layer_1)\n",
    "\n",
    "# decoder\n",
    "rv_layer = RepeatVector(n = timesteps)(encoder_output)\n",
    "decoder_layer_1 = LSTM(units = lastent_dim, return_sequences = True)(rv_layer)\n",
    "decoder_output = Dense(units = top_words, activation = 'softmax')(decoder_layer_1)\n",
    "\n",
    "lstm_autoencoder = Model(encoder_input, decoder_output)\n",
    "lstm_autoencoder.compile(optimizer='adam', loss='sparse_categorical_crossentropy')\n",
    "lstm_autoencoder.summary()"
   ]
  },
  {
   "cell_type": "code",
   "execution_count": 27,
   "metadata": {},
   "outputs": [
    {
     "name": "stdout",
     "output_type": "stream",
     "text": [
      "Epoch 1/10\n",
      "625/625 [==============================] - 15s 21ms/step - loss: 4.8934 - val_loss: 4.8202\n",
      "Epoch 2/10\n",
      "625/625 [==============================] - 13s 21ms/step - loss: 4.8126 - val_loss: 4.8104\n",
      "Epoch 3/10\n",
      "625/625 [==============================] - 14s 22ms/step - loss: 4.8047 - val_loss: 4.8034\n",
      "Epoch 4/10\n",
      "625/625 [==============================] - 18s 28ms/step - loss: 4.7961 - val_loss: 4.7972\n",
      "Epoch 5/10\n",
      "625/625 [==============================] - 14s 23ms/step - loss: 4.8409 - val_loss: 4.7552\n",
      "Epoch 6/10\n",
      "625/625 [==============================] - 13s 20ms/step - loss: 4.7192 - val_loss: 4.7125\n",
      "Epoch 7/10\n",
      "625/625 [==============================] - 14s 22ms/step - loss: 4.7033 - val_loss: 4.7124\n",
      "Epoch 8/10\n",
      "625/625 [==============================] - 15s 23ms/step - loss: 4.6999 - val_loss: 4.7089\n",
      "Epoch 9/10\n",
      "625/625 [==============================] - 20s 32ms/step - loss: 4.6993 - val_loss: 4.7058\n",
      "Epoch 10/10\n",
      "625/625 [==============================] - 18s 29ms/step - loss: 4.7161 - val_loss: 4.6722\n"
     ]
    },
    {
     "data": {
      "text/plain": [
       "<keras.callbacks.History at 0x21ff3dc96c0>"
      ]
     },
     "execution_count": 27,
     "metadata": {},
     "output_type": "execute_result"
    }
   ],
   "source": [
    "lstm_autoencoder.fit(train_x, train_x, epochs=10, batch_size=32, validation_split=0.2)\n"
   ]
  },
  {
   "cell_type": "code",
   "execution_count": 35,
   "metadata": {},
   "outputs": [
    {
     "name": "stdout",
     "output_type": "stream",
     "text": [
      "782/782 [==============================] - 8s 11ms/step - loss: 4.6846\n",
      "4.6845831871032715\n"
     ]
    }
   ],
   "source": [
    "lstm_result = lstm_autoencoder.evaluate(test_x, test_x)\n",
    "print(lstm_result)"
   ]
  }
 ],
 "metadata": {
  "kernelspec": {
   "display_name": "venv_3_10_11",
   "language": "python",
   "name": "python3"
  },
  "language_info": {
   "codemirror_mode": {
    "name": "ipython",
    "version": 3
   },
   "file_extension": ".py",
   "mimetype": "text/x-python",
   "name": "python",
   "nbconvert_exporter": "python",
   "pygments_lexer": "ipython3",
   "version": "3.10.11"
  }
 },
 "nbformat": 4,
 "nbformat_minor": 2
}
