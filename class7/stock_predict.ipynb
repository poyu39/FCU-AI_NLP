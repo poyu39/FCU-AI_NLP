{
  "nbformat": 4,
  "nbformat_minor": 0,
  "metadata": {
    "colab": {
      "provenance": []
    },
    "kernelspec": {
      "name": "python3",
      "display_name": "Python 3"
    },
    "language_info": {
      "name": "python"
    }
  },
  "cells": [
    {
      "cell_type": "code",
      "execution_count": null,
      "metadata": {
        "id": "aWAaMvAiuChz"
      },
      "outputs": [],
      "source": [
        "import pandas as pd\n",
        "\n",
        "df_train = pd.read_csv(\"??????檔案\",index_col=\"Date\", )\n",
        "print(df_train.head())"
      ]
    },
    {
      "cell_type": "code",
      "source": [
        "#產生訓練所需的特徵和標籤\n",
        "#取出第5個Adj Close欄位"
      ],
      "metadata": {
        "id": "sGO9w_MiuJst"
      },
      "execution_count": null,
      "outputs": []
    },
    {
      "cell_type": "code",
      "source": [
        "#思考，如何準備資料集?\n",
        "\n",
        "#下面程式碼的意義為何?\n",
        "\"\"\"\n",
        "\n",
        "import numpy as np\n",
        "\n",
        "train_days =60\n",
        "X_train_data, Y_train_data =[], []\n",
        "\n",
        "for i in range(len(X_train_set)-train_days-1):\n",
        "    a=X_train_set[i:(i+train_days),0]\n",
        "    X_train_data.append(a)\n",
        "    Y_train_data.append(X_train_set[i+train_days,0])\n",
        "\n",
        "X_train=np.array(X_train_data)\n",
        "Y_train=np.array(Y_train_data)\n",
        "\n",
        "\"\"\""
      ],
      "metadata": {
        "id": "pdbSW1b_uN2K"
      },
      "execution_count": null,
      "outputs": []
    },
    {
      "cell_type": "code",
      "source": [
        "\n",
        "#from sklearn.preprocessing import MinMaxScaler\n",
        "from keras.models import Sequential\n",
        "from keras.layers import Dense, Dropout, Activation, Flatten, LSTM\n",
        "from tensorflow.keras.optimizers import Adam\n",
        "#from keras.callbacks import EarlyStopping, ModelCheckpoint\n",
        "np.random.seed(10)\n",
        "\n",
        "#1.讀檔，adj close\n",
        "#2.整理data 為60天一筆\n",
        "#3.reshape為(X, 60, 1)型態"
      ],
      "metadata": {
        "id": "6Pme2tNzubxX"
      },
      "execution_count": null,
      "outputs": []
    },
    {
      "cell_type": "code",
      "source": [
        "#定義模型以最簡單的dense為例，思考怎麼改成rnn以及lstm\n",
        "model = Sequential()\n",
        "model.add(Dense(128, activation='relu', input_shape=(X_train.shape[1], X_train.shape[2])))\n",
        "model.add(Flatten())\n",
        "model.add(Dense(64, activation='relu'))\n",
        "model.add(Dense(32, activation='relu'))\n",
        "model.add(Dense(16, activation='relu'))\n",
        "model.add(Dense(1))\n",
        "model.summary()"
      ],
      "metadata": {
        "id": "H8uV7Nizvgt4"
      },
      "execution_count": null,
      "outputs": []
    },
    {
      "cell_type": "code",
      "source": [
        "#編譯模型\n",
        "#損失函數mae,優化器adam,評估標準mean_absolute_error\n",
        "model.compile(loss=\"mae\", optimizer=\"adam\", metrics=[\"mean_absolute_error\"])\n",
        "#訓練模型\n",
        "model.fit(X_train, Y_train, epochs=50, batch_size=100,shuffle=True)\n",
        "\n",
        "\n",
        "#如何有效訓練模型? 中斷點? 儲存最好的結果"
      ],
      "metadata": {
        "id": "dlnJGLe8zEHn"
      },
      "execution_count": null,
      "outputs": []
    },
    {
      "cell_type": "code",
      "source": [
        "#測試模型 請將test資料進行相同處裡然後丟給模型預測並劃出圖\n",
        "\n",
        "\"\"\"\n",
        "\n",
        "import matplotlib.pyplot as plt\n",
        "%matplotlib inline\n",
        "plt.plot(Y_test, color=\"red\", label=\"Real Stock Price\")\n",
        "plt.plot(X_test_pred_price, color=\"blue\", label=\"Predited Stock Price\")\n",
        "plt.title(\"2024 Meta Stock Price Prediction\")\n",
        "plt.xlabel(\"Time\")\n",
        "plt.ylabel(\"Meta Time Price\")\n",
        "plt.legend()\n",
        "plt.show()\n",
        "\n",
        "\"\"\""
      ],
      "metadata": {
        "id": "MbXK-ldLzQEo"
      },
      "execution_count": null,
      "outputs": []
    },
    {
      "cell_type": "code",
      "source": [
        "#這樣的結果好嗎似乎有點問題\n",
        "#試試看對資料集做L1正規劃"
      ],
      "metadata": {
        "id": "0EaMkG4cz65a"
      },
      "execution_count": null,
      "outputs": []
    }
  ]
}