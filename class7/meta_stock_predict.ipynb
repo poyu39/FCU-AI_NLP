{
  "nbformat": 4,
  "nbformat_minor": 0,
  "metadata": {
    "colab": {
      "provenance": []
    },
    "kernelspec": {
      "name": "python3",
      "display_name": "Python 3"
    },
    "language_info": {
      "name": "python"
    }
  },
  "cells": [
    {
      "cell_type": "code",
      "execution_count": 27,
      "metadata": {
        "id": "aWAaMvAiuChz",
        "colab": {
          "base_uri": "https://localhost:8080/"
        },
        "outputId": "fede1bf1-2702-4ff3-a7f9-fbe14447a56c"
      },
      "outputs": [
        {
          "output_type": "stream",
          "name": "stdout",
          "text": [
            "                 Open       High        Low      Close  Adj Close    Volume\n",
            "Date                                                                       \n",
            "2018-01-02  52.417000  53.347000  52.261501  53.250000  53.250000  24752000\n",
            "2018-01-03  53.215500  54.314499  53.160500  54.124001  54.124001  28604000\n",
            "2018-01-04  54.400002  54.678501  54.200100  54.320000  54.320000  20092000\n",
            "2018-01-05  54.700001  55.212502  54.599998  55.111500  55.111500  25582000\n",
            "2018-01-08  55.111500  55.563499  55.081001  55.347000  55.347000  20952000\n"
          ]
        }
      ],
      "source": [
        "import pandas as pd\n",
        "\n",
        "df_train = pd.read_csv(\"/content/train.csv\",index_col=\"Date\", )\n",
        "print(df_train.head())"
      ]
    },
    {
      "cell_type": "code",
      "source": [
        "#產生訓練所需的特徵和標籤\n",
        "#取出第5個Adj Close欄位\n",
        "X_train_set = df_train.iloc[:, 4:5].values\n",
        "X_train_len = len(X_train_set)\n",
        "print(\"筆數：\", X_train_len)"
      ],
      "metadata": {
        "id": "sGO9w_MiuJst",
        "colab": {
          "base_uri": "https://localhost:8080/"
        },
        "outputId": "fd897d4a-ac21-437d-9dc1-4cc6eb02f5ab"
      },
      "execution_count": 28,
      "outputs": [
        {
          "output_type": "stream",
          "name": "stdout",
          "text": [
            "筆數： 1382\n"
          ]
        }
      ]
    },
    {
      "cell_type": "code",
      "source": [
        "#思考，如何準備資料集?\n",
        "\n",
        "#下面程式碼的意義為何?\n",
        "\n",
        "\n",
        "import numpy as np\n",
        "\n",
        "train_days =60\n",
        "X_train_data, Y_train_data =[], []\n",
        "\n",
        "for i in range(len(X_train_set)-train_days-1):\n",
        "    a=X_train_set[i:(i+train_days)]\n",
        "    X_train_data.append(a)\n",
        "    Y_train_data.append(X_train_set[i+train_days])\n",
        "\n",
        "X_train=np.array(X_train_data)\n",
        "Y_train=np.array(Y_train_data)\n",
        "\n",
        "print(\"x_train__shape\", X_train.shape)\n",
        "print(\"y_train__shape\", Y_train.shape)"
      ],
      "metadata": {
        "id": "pdbSW1b_uN2K",
        "colab": {
          "base_uri": "https://localhost:8080/"
        },
        "outputId": "e391c489-2c0b-45d3-9fc7-9334dc889cd2"
      },
      "execution_count": 33,
      "outputs": [
        {
          "output_type": "stream",
          "name": "stdout",
          "text": [
            "x_train__shape (1321, 60, 1)\n",
            "y_train__shape (1321, 1)\n"
          ]
        }
      ]
    },
    {
      "cell_type": "code",
      "source": [
        "print(X_train[0])\n",
        "print(Y_train[0])\n",
        "print(\"----------------\")\n",
        "print(X_train[1])\n",
        "print(Y_train[1])"
      ],
      "metadata": {
        "colab": {
          "base_uri": "https://localhost:8080/"
        },
        "id": "Ig7AS8smevpV",
        "outputId": "623040ea-eb83-45b4-9ef5-916686a63c99"
      },
      "execution_count": null,
      "outputs": [
        {
          "output_type": "stream",
          "name": "stdout",
          "text": [
            "[53.25     54.124001 54.32     55.1115   55.347    55.313    55.130501\n",
            " 55.276001 56.112999 56.088001 56.598999 56.489498 56.8755   57.790501\n",
            " 58.498501 58.212002 58.518501 58.792    58.778999 58.184502 58.497002\n",
            " 58.384998 55.595001 52.790001 54.029999 52.429001 50.076    51.889\n",
            " 52.597    52.605    53.485001 54.476002 54.740002 55.123001 55.567001\n",
            " 55.331501 56.3395   57.1875   55.914501 55.2365   53.476002 53.945999\n",
            " 54.546501 54.752998 55.481998 56.299999 58.001999 58.224998 56.908501\n",
            " 57.474499 57.479    56.786499 54.991001 54.885502 54.543999 52.453999\n",
            " 51.078499 52.6605   50.255001 50.228001]\n",
            "51.5895\n",
            "----------------\n",
            "[54.124001 54.32     55.1115   55.347    55.313    55.130501 55.276001\n",
            " 56.112999 56.088001 56.598999 56.489498 56.8755   57.790501 58.498501\n",
            " 58.212002 58.518501 58.792    58.778999 58.184502 58.497002 58.384998\n",
            " 55.595001 52.790001 54.029999 52.429001 50.076    51.889    52.597\n",
            " 52.605    53.485001 54.476002 54.740002 55.123001 55.567001 55.331501\n",
            " 56.3395   57.1875   55.914501 55.2365   53.476002 53.945999 54.546501\n",
            " 54.752998 55.481998 56.299999 58.001999 58.224998 56.908501 57.474499\n",
            " 57.479    56.786499 54.991001 54.885502 54.543999 52.453999 51.078499\n",
            " 52.6605   50.255001 50.228001 51.5895  ]\n",
            "50.323502\n"
          ]
        }
      ]
    },
    {
      "cell_type": "code",
      "source": [
        "\n",
        "#from sklearn.preprocessing import MinMaxScaler\n",
        "from keras.models import Sequential\n",
        "from keras.layers import Dense, Dropout, Activation, Flatten, LSTM\n",
        "from tensorflow.keras.optimizers import Adam\n",
        "#from keras.callbacks import EarlyStopping, ModelCheckpoint\n",
        "np.random.seed(10)\n",
        "\n",
        "#1.讀檔，adj close\n",
        "#2.整理data 為60天一筆\n",
        "#3.reshape為(X, 60, 1)型態"
      ],
      "metadata": {
        "id": "6Pme2tNzubxX"
      },
      "execution_count": 34,
      "outputs": []
    },
    {
      "cell_type": "code",
      "source": [
        "#定義模型以最簡單的dense為例，思考怎麼改成rnn以及lstm\n",
        "model = Sequential()\n",
        "model.add(Dense(128, activation='relu', input_shape=(X_train.shape[1], X_train.shape[2])))\n",
        "model.add(Flatten())\n",
        "model.add(Dense(64, activation='relu'))\n",
        "model.add(Dense(32, activation='relu'))\n",
        "model.add(Dense(16, activation='relu'))\n",
        "model.add(Dense(1))\n",
        "model.summary()"
      ],
      "metadata": {
        "id": "H8uV7Nizvgt4",
        "colab": {
          "base_uri": "https://localhost:8080/"
        },
        "outputId": "f4871aa5-3454-483f-8b5d-bbaf555aaaa7"
      },
      "execution_count": 35,
      "outputs": [
        {
          "output_type": "stream",
          "name": "stdout",
          "text": [
            "Model: \"sequential_3\"\n",
            "_________________________________________________________________\n",
            " Layer (type)                Output Shape              Param #   \n",
            "=================================================================\n",
            " dense_5 (Dense)             (None, 60, 128)           256       \n",
            "                                                                 \n",
            " flatten_1 (Flatten)         (None, 7680)              0         \n",
            "                                                                 \n",
            " dense_6 (Dense)             (None, 64)                491584    \n",
            "                                                                 \n",
            " dense_7 (Dense)             (None, 32)                2080      \n",
            "                                                                 \n",
            " dense_8 (Dense)             (None, 16)                528       \n",
            "                                                                 \n",
            " dense_9 (Dense)             (None, 1)                 17        \n",
            "                                                                 \n",
            "=================================================================\n",
            "Total params: 494465 (1.89 MB)\n",
            "Trainable params: 494465 (1.89 MB)\n",
            "Non-trainable params: 0 (0.00 Byte)\n",
            "_________________________________________________________________\n"
          ]
        }
      ]
    },
    {
      "cell_type": "code",
      "source": [
        "#編譯模型\n",
        "#損失函數mae,優化器adam,評估標準mean_absolute_error\n",
        "model.compile(loss=\"mae\", optimizer=\"adam\", metrics=[\"mean_absolute_error\"])\n",
        "#訓練模型\n",
        "model.fit(X_train, Y_train, epochs=50, batch_size=100,shuffle=True)\n",
        "\n",
        "\n",
        "#如何有效訓練模型? 中斷點? 儲存最好的結果"
      ],
      "metadata": {
        "id": "dlnJGLe8zEHn",
        "colab": {
          "base_uri": "https://localhost:8080/"
        },
        "outputId": "e81ca956-6e90-4a78-d9dc-c28b109f69ac"
      },
      "execution_count": 36,
      "outputs": [
        {
          "output_type": "stream",
          "name": "stdout",
          "text": [
            "Epoch 1/50\n",
            "14/14 [==============================] - 2s 29ms/step - loss: 15.2498 - mean_absolute_error: 15.2498\n",
            "Epoch 2/50\n",
            "14/14 [==============================] - 0s 31ms/step - loss: 5.0406 - mean_absolute_error: 5.0406\n",
            "Epoch 3/50\n",
            "14/14 [==============================] - 0s 28ms/step - loss: 4.5593 - mean_absolute_error: 4.5593\n",
            "Epoch 4/50\n",
            "14/14 [==============================] - 0s 29ms/step - loss: 4.3317 - mean_absolute_error: 4.3317\n",
            "Epoch 5/50\n",
            "14/14 [==============================] - 0s 29ms/step - loss: 4.0865 - mean_absolute_error: 4.0865\n",
            "Epoch 6/50\n",
            "14/14 [==============================] - 0s 27ms/step - loss: 3.1582 - mean_absolute_error: 3.1582\n",
            "Epoch 7/50\n",
            "14/14 [==============================] - 0s 28ms/step - loss: 3.3843 - mean_absolute_error: 3.3843\n",
            "Epoch 8/50\n",
            "14/14 [==============================] - 0s 28ms/step - loss: 4.1854 - mean_absolute_error: 4.1854\n",
            "Epoch 9/50\n",
            "14/14 [==============================] - 0s 21ms/step - loss: 4.5187 - mean_absolute_error: 4.5187\n",
            "Epoch 10/50\n",
            "14/14 [==============================] - 0s 20ms/step - loss: 2.9014 - mean_absolute_error: 2.9014\n",
            "Epoch 11/50\n",
            "14/14 [==============================] - 0s 20ms/step - loss: 2.8615 - mean_absolute_error: 2.8615\n",
            "Epoch 12/50\n",
            "14/14 [==============================] - 0s 18ms/step - loss: 3.9450 - mean_absolute_error: 3.9450\n",
            "Epoch 13/50\n",
            "14/14 [==============================] - 0s 19ms/step - loss: 2.9015 - mean_absolute_error: 2.9015\n",
            "Epoch 14/50\n",
            "14/14 [==============================] - 0s 19ms/step - loss: 3.6010 - mean_absolute_error: 3.6010\n",
            "Epoch 15/50\n",
            "14/14 [==============================] - 0s 20ms/step - loss: 2.6869 - mean_absolute_error: 2.6869\n",
            "Epoch 16/50\n",
            "14/14 [==============================] - 0s 19ms/step - loss: 2.6802 - mean_absolute_error: 2.6802\n",
            "Epoch 17/50\n",
            "14/14 [==============================] - 0s 19ms/step - loss: 3.6202 - mean_absolute_error: 3.6202\n",
            "Epoch 18/50\n",
            "14/14 [==============================] - 0s 21ms/step - loss: 3.5333 - mean_absolute_error: 3.5333\n",
            "Epoch 19/50\n",
            "14/14 [==============================] - 0s 20ms/step - loss: 3.4441 - mean_absolute_error: 3.4441\n",
            "Epoch 20/50\n",
            "14/14 [==============================] - 0s 19ms/step - loss: 3.3021 - mean_absolute_error: 3.3021\n",
            "Epoch 21/50\n",
            "14/14 [==============================] - 0s 19ms/step - loss: 3.2466 - mean_absolute_error: 3.2466\n",
            "Epoch 22/50\n",
            "14/14 [==============================] - 0s 21ms/step - loss: 2.5330 - mean_absolute_error: 2.5330\n",
            "Epoch 23/50\n",
            "14/14 [==============================] - 0s 19ms/step - loss: 3.3417 - mean_absolute_error: 3.3417\n",
            "Epoch 24/50\n",
            "14/14 [==============================] - 0s 19ms/step - loss: 2.6046 - mean_absolute_error: 2.6046\n",
            "Epoch 25/50\n",
            "14/14 [==============================] - 0s 18ms/step - loss: 3.1163 - mean_absolute_error: 3.1163\n",
            "Epoch 26/50\n",
            "14/14 [==============================] - 0s 19ms/step - loss: 2.4228 - mean_absolute_error: 2.4228\n",
            "Epoch 27/50\n",
            "14/14 [==============================] - 0s 18ms/step - loss: 2.6513 - mean_absolute_error: 2.6513\n",
            "Epoch 28/50\n",
            "14/14 [==============================] - 0s 19ms/step - loss: 2.8401 - mean_absolute_error: 2.8401\n",
            "Epoch 29/50\n",
            "14/14 [==============================] - 0s 19ms/step - loss: 2.7399 - mean_absolute_error: 2.7399\n",
            "Epoch 30/50\n",
            "14/14 [==============================] - 0s 19ms/step - loss: 2.8769 - mean_absolute_error: 2.8769\n",
            "Epoch 31/50\n",
            "14/14 [==============================] - 0s 19ms/step - loss: 2.4761 - mean_absolute_error: 2.4761\n",
            "Epoch 32/50\n",
            "14/14 [==============================] - 0s 19ms/step - loss: 2.7485 - mean_absolute_error: 2.7485\n",
            "Epoch 33/50\n",
            "14/14 [==============================] - 0s 19ms/step - loss: 3.1793 - mean_absolute_error: 3.1793\n",
            "Epoch 34/50\n",
            "14/14 [==============================] - 0s 21ms/step - loss: 3.4446 - mean_absolute_error: 3.4446\n",
            "Epoch 35/50\n",
            "14/14 [==============================] - 0s 20ms/step - loss: 2.3659 - mean_absolute_error: 2.3659\n",
            "Epoch 36/50\n",
            "14/14 [==============================] - 0s 20ms/step - loss: 3.4408 - mean_absolute_error: 3.4408\n",
            "Epoch 37/50\n",
            "14/14 [==============================] - 0s 35ms/step - loss: 2.8217 - mean_absolute_error: 2.8217\n",
            "Epoch 38/50\n",
            "14/14 [==============================] - 0s 29ms/step - loss: 2.5855 - mean_absolute_error: 2.5855\n",
            "Epoch 39/50\n",
            "14/14 [==============================] - 1s 41ms/step - loss: 2.1721 - mean_absolute_error: 2.1721\n",
            "Epoch 40/50\n",
            "14/14 [==============================] - 0s 32ms/step - loss: 2.2726 - mean_absolute_error: 2.2726\n",
            "Epoch 41/50\n",
            "14/14 [==============================] - 1s 41ms/step - loss: 2.6075 - mean_absolute_error: 2.6075\n",
            "Epoch 42/50\n",
            "14/14 [==============================] - 1s 45ms/step - loss: 2.1813 - mean_absolute_error: 2.1813\n",
            "Epoch 43/50\n",
            "14/14 [==============================] - 1s 45ms/step - loss: 2.2424 - mean_absolute_error: 2.2424\n",
            "Epoch 44/50\n",
            "14/14 [==============================] - 1s 44ms/step - loss: 2.1822 - mean_absolute_error: 2.1822\n",
            "Epoch 45/50\n",
            "14/14 [==============================] - 1s 36ms/step - loss: 2.1164 - mean_absolute_error: 2.1164\n",
            "Epoch 46/50\n",
            "14/14 [==============================] - 1s 37ms/step - loss: 2.2535 - mean_absolute_error: 2.2535\n",
            "Epoch 47/50\n",
            "14/14 [==============================] - 1s 46ms/step - loss: 2.7664 - mean_absolute_error: 2.7664\n",
            "Epoch 48/50\n",
            "14/14 [==============================] - 1s 43ms/step - loss: 2.6252 - mean_absolute_error: 2.6252\n",
            "Epoch 49/50\n",
            "14/14 [==============================] - 1s 40ms/step - loss: 1.9964 - mean_absolute_error: 1.9964\n",
            "Epoch 50/50\n",
            "14/14 [==============================] - 1s 41ms/step - loss: 2.3233 - mean_absolute_error: 2.3233\n"
          ]
        },
        {
          "output_type": "execute_result",
          "data": {
            "text/plain": [
              "<keras.src.callbacks.History at 0x7c49836e8c40>"
            ]
          },
          "metadata": {},
          "execution_count": 36
        }
      ]
    },
    {
      "cell_type": "code",
      "source": [
        "#測試模型 請將test資料進行相同處裡然後丟給模型預測並劃出圖\n",
        "\n",
        "\n",
        "\n",
        "import matplotlib.pyplot as plt\n",
        "%matplotlib inline\n",
        "plt.plot(Y_test, color=\"red\", label=\"Real Stock Price\")\n",
        "plt.plot(X_test_pred_price, color=\"blue\", label=\"Predited Stock Price\")\n",
        "plt.title(\"2024 Meta Stock Price Prediction\")\n",
        "plt.xlabel(\"Time\")\n",
        "plt.ylabel(\"Meta Time Price\")\n",
        "plt.legend()\n",
        "plt.show()\n"
      ],
      "metadata": {
        "id": "MbXK-ldLzQEo",
        "colab": {
          "base_uri": "https://localhost:8080/",
          "height": 211
        },
        "outputId": "aadede06-7b76-463b-8d5a-c00b8566fa23"
      },
      "execution_count": null,
      "outputs": [
        {
          "output_type": "error",
          "ename": "NameError",
          "evalue": "name 'Y_test' is not defined",
          "traceback": [
            "\u001b[0;31m---------------------------------------------------------------------------\u001b[0m",
            "\u001b[0;31mNameError\u001b[0m                                 Traceback (most recent call last)",
            "\u001b[0;32m<ipython-input-26-39ca2ed588cf>\u001b[0m in \u001b[0;36m<cell line: 7>\u001b[0;34m()\u001b[0m\n\u001b[1;32m      5\u001b[0m \u001b[0;32mimport\u001b[0m \u001b[0mmatplotlib\u001b[0m\u001b[0;34m.\u001b[0m\u001b[0mpyplot\u001b[0m \u001b[0;32mas\u001b[0m \u001b[0mplt\u001b[0m\u001b[0;34m\u001b[0m\u001b[0;34m\u001b[0m\u001b[0m\n\u001b[1;32m      6\u001b[0m \u001b[0mget_ipython\u001b[0m\u001b[0;34m(\u001b[0m\u001b[0;34m)\u001b[0m\u001b[0;34m.\u001b[0m\u001b[0mrun_line_magic\u001b[0m\u001b[0;34m(\u001b[0m\u001b[0;34m'matplotlib'\u001b[0m\u001b[0;34m,\u001b[0m \u001b[0;34m'inline'\u001b[0m\u001b[0;34m)\u001b[0m\u001b[0;34m\u001b[0m\u001b[0;34m\u001b[0m\u001b[0m\n\u001b[0;32m----> 7\u001b[0;31m \u001b[0mplt\u001b[0m\u001b[0;34m.\u001b[0m\u001b[0mplot\u001b[0m\u001b[0;34m(\u001b[0m\u001b[0mY_test\u001b[0m\u001b[0;34m,\u001b[0m \u001b[0mcolor\u001b[0m\u001b[0;34m=\u001b[0m\u001b[0;34m\"red\"\u001b[0m\u001b[0;34m,\u001b[0m \u001b[0mlabel\u001b[0m\u001b[0;34m=\u001b[0m\u001b[0;34m\"Real Stock Price\"\u001b[0m\u001b[0;34m)\u001b[0m\u001b[0;34m\u001b[0m\u001b[0;34m\u001b[0m\u001b[0m\n\u001b[0m\u001b[1;32m      8\u001b[0m \u001b[0mplt\u001b[0m\u001b[0;34m.\u001b[0m\u001b[0mplot\u001b[0m\u001b[0;34m(\u001b[0m\u001b[0mX_test_pred_price\u001b[0m\u001b[0;34m,\u001b[0m \u001b[0mcolor\u001b[0m\u001b[0;34m=\u001b[0m\u001b[0;34m\"blue\"\u001b[0m\u001b[0;34m,\u001b[0m \u001b[0mlabel\u001b[0m\u001b[0;34m=\u001b[0m\u001b[0;34m\"Predited Stock Price\"\u001b[0m\u001b[0;34m)\u001b[0m\u001b[0;34m\u001b[0m\u001b[0;34m\u001b[0m\u001b[0m\n\u001b[1;32m      9\u001b[0m \u001b[0mplt\u001b[0m\u001b[0;34m.\u001b[0m\u001b[0mtitle\u001b[0m\u001b[0;34m(\u001b[0m\u001b[0;34m\"2024 Meta Stock Price Prediction\"\u001b[0m\u001b[0;34m)\u001b[0m\u001b[0;34m\u001b[0m\u001b[0;34m\u001b[0m\u001b[0m\n",
            "\u001b[0;31mNameError\u001b[0m: name 'Y_test' is not defined"
          ]
        }
      ]
    },
    {
      "cell_type": "code",
      "source": [
        "#這樣的結果好嗎似乎有點問題\n",
        "#試試看對資料集做L1正規劃"
      ],
      "metadata": {
        "id": "0EaMkG4cz65a"
      },
      "execution_count": null,
      "outputs": []
    }
  ]
}